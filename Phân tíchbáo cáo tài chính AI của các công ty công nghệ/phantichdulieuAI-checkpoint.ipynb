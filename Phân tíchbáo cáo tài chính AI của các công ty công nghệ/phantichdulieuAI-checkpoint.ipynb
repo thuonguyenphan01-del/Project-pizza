{
 "cells": [
  {
   "cell_type": "code",
   "execution_count": 4,
   "id": "44d372d7-2a15-436e-8de0-7a0b0b9f0c0a",
   "metadata": {},
   "outputs": [],
   "source": [
    "import pandas as pd\n",
    "import seaborn as sns\n",
    "import matplotlib.pyplot as plt\n",
    "import datetime as dt\n",
    "%matplotlib inline"
   ]
  },
  {
   "cell_type": "code",
   "execution_count": 7,
   "id": "0539a58d-6bc0-4882-8359-caf6a4a35726",
   "metadata": {},
   "outputs": [],
   "source": [
    "df = pd.read_csv(r\"C:\\Users\\ASUS\\Downloads\\ai_financial_market_daily_realistic_synthetic.csv\")"
   ]
  },
  {
   "cell_type": "code",
   "execution_count": 8,
   "id": "127870a4-ff49-4ffa-8f00-b44cb8488110",
   "metadata": {},
   "outputs": [
    {
     "data": {
      "text/plain": [
       "(10959, 7)"
      ]
     },
     "execution_count": 8,
     "metadata": {},
     "output_type": "execute_result"
    }
   ],
   "source": [
    "df.shape"
   ]
  },
  {
   "cell_type": "code",
   "execution_count": 9,
   "id": "9a349b80-7d40-4cf4-8bf3-2f7ca1fe855c",
   "metadata": {},
   "outputs": [
    {
     "name": "stdout",
     "output_type": "stream",
     "text": [
      "<class 'pandas.core.frame.DataFrame'>\n",
      "RangeIndex: 10959 entries, 0 to 10958\n",
      "Data columns (total 7 columns):\n",
      " #   Column               Non-Null Count  Dtype  \n",
      "---  ------               --------------  -----  \n",
      " 0   Date                 10959 non-null  object \n",
      " 1   Company              10959 non-null  object \n",
      " 2   R&D_Spending_USD_Mn  10959 non-null  float64\n",
      " 3   AI_Revenue_USD_Mn    10959 non-null  float64\n",
      " 4   AI_Revenue_Growth_%  10959 non-null  float64\n",
      " 5   Event                233 non-null    object \n",
      " 6   Stock_Impact_%       10959 non-null  float64\n",
      "dtypes: float64(4), object(3)\n",
      "memory usage: 599.4+ KB\n"
     ]
    }
   ],
   "source": [
    "df.info()"
   ]
  },
  {
   "cell_type": "code",
   "execution_count": 10,
   "id": "585b192f-f6f8-487f-a0f4-fcb994b7271a",
   "metadata": {},
   "outputs": [
    {
     "data": {
      "text/plain": [
       "Date                    object\n",
       "Company                 object\n",
       "R&D_Spending_USD_Mn    float64\n",
       "AI_Revenue_USD_Mn      float64\n",
       "AI_Revenue_Growth_%    float64\n",
       "Event                   object\n",
       "Stock_Impact_%         float64\n",
       "dtype: object"
      ]
     },
     "execution_count": 10,
     "metadata": {},
     "output_type": "execute_result"
    }
   ],
   "source": [
    "df.dtypes"
   ]
  },
  {
   "cell_type": "code",
   "execution_count": 11,
   "id": "cd10bfff-fb45-46a5-a45e-9e9521663491",
   "metadata": {},
   "outputs": [],
   "source": [
    "df['Date'] = pd.to_datetime(df['Date'])"
   ]
  },
  {
   "cell_type": "code",
   "execution_count": null,
   "id": "ef94b0a0-7dca-46ea-8760-83e73f79f67f",
   "metadata": {},
   "outputs": [],
   "source": [
    "#Nhìn tổng thể dữ liệu"
   ]
  },
  {
   "cell_type": "code",
   "execution_count": 12,
   "id": "e5c6c487-2ef7-4be7-9570-492e53b268b6",
   "metadata": {},
   "outputs": [
    {
     "data": {
      "text/html": [
       "<div>\n",
       "<style scoped>\n",
       "    .dataframe tbody tr th:only-of-type {\n",
       "        vertical-align: middle;\n",
       "    }\n",
       "\n",
       "    .dataframe tbody tr th {\n",
       "        vertical-align: top;\n",
       "    }\n",
       "\n",
       "    .dataframe thead th {\n",
       "        text-align: right;\n",
       "    }\n",
       "</style>\n",
       "<table border=\"1\" class=\"dataframe\">\n",
       "  <thead>\n",
       "    <tr style=\"text-align: right;\">\n",
       "      <th></th>\n",
       "      <th>Date</th>\n",
       "      <th>Company</th>\n",
       "      <th>R&amp;D_Spending_USD_Mn</th>\n",
       "      <th>AI_Revenue_USD_Mn</th>\n",
       "      <th>AI_Revenue_Growth_%</th>\n",
       "      <th>Event</th>\n",
       "      <th>Stock_Impact_%</th>\n",
       "    </tr>\n",
       "  </thead>\n",
       "  <tbody>\n",
       "    <tr>\n",
       "      <th>0</th>\n",
       "      <td>2015-01-01</td>\n",
       "      <td>OpenAI</td>\n",
       "      <td>5.92</td>\n",
       "      <td>0.63</td>\n",
       "      <td>-36.82</td>\n",
       "      <td>NaN</td>\n",
       "      <td>-0.36</td>\n",
       "    </tr>\n",
       "    <tr>\n",
       "      <th>1</th>\n",
       "      <td>2015-01-02</td>\n",
       "      <td>OpenAI</td>\n",
       "      <td>5.41</td>\n",
       "      <td>1.81</td>\n",
       "      <td>80.59</td>\n",
       "      <td>NaN</td>\n",
       "      <td>0.41</td>\n",
       "    </tr>\n",
       "    <tr>\n",
       "      <th>2</th>\n",
       "      <td>2015-01-03</td>\n",
       "      <td>OpenAI</td>\n",
       "      <td>4.50</td>\n",
       "      <td>0.61</td>\n",
       "      <td>-38.88</td>\n",
       "      <td>NaN</td>\n",
       "      <td>0.23</td>\n",
       "    </tr>\n",
       "    <tr>\n",
       "      <th>3</th>\n",
       "      <td>2015-01-04</td>\n",
       "      <td>OpenAI</td>\n",
       "      <td>5.45</td>\n",
       "      <td>0.95</td>\n",
       "      <td>-5.34</td>\n",
       "      <td>NaN</td>\n",
       "      <td>0.93</td>\n",
       "    </tr>\n",
       "    <tr>\n",
       "      <th>4</th>\n",
       "      <td>2015-01-05</td>\n",
       "      <td>OpenAI</td>\n",
       "      <td>3.40</td>\n",
       "      <td>1.48</td>\n",
       "      <td>48.45</td>\n",
       "      <td>NaN</td>\n",
       "      <td>-0.09</td>\n",
       "    </tr>\n",
       "    <tr>\n",
       "      <th>5</th>\n",
       "      <td>2015-01-06</td>\n",
       "      <td>OpenAI</td>\n",
       "      <td>5.47</td>\n",
       "      <td>1.08</td>\n",
       "      <td>8.32</td>\n",
       "      <td>NaN</td>\n",
       "      <td>0.74</td>\n",
       "    </tr>\n",
       "    <tr>\n",
       "      <th>6</th>\n",
       "      <td>2015-01-07</td>\n",
       "      <td>OpenAI</td>\n",
       "      <td>6.95</td>\n",
       "      <td>0.67</td>\n",
       "      <td>-32.95</td>\n",
       "      <td>NaN</td>\n",
       "      <td>-0.80</td>\n",
       "    </tr>\n",
       "    <tr>\n",
       "      <th>7</th>\n",
       "      <td>2015-01-08</td>\n",
       "      <td>OpenAI</td>\n",
       "      <td>5.06</td>\n",
       "      <td>1.43</td>\n",
       "      <td>43.49</td>\n",
       "      <td>NaN</td>\n",
       "      <td>-0.09</td>\n",
       "    </tr>\n",
       "    <tr>\n",
       "      <th>8</th>\n",
       "      <td>2015-01-09</td>\n",
       "      <td>OpenAI</td>\n",
       "      <td>5.26</td>\n",
       "      <td>0.33</td>\n",
       "      <td>-67.28</td>\n",
       "      <td>NaN</td>\n",
       "      <td>-0.72</td>\n",
       "    </tr>\n",
       "    <tr>\n",
       "      <th>9</th>\n",
       "      <td>2015-01-10</td>\n",
       "      <td>OpenAI</td>\n",
       "      <td>2.00</td>\n",
       "      <td>0.74</td>\n",
       "      <td>-25.80</td>\n",
       "      <td>NaN</td>\n",
       "      <td>0.50</td>\n",
       "    </tr>\n",
       "  </tbody>\n",
       "</table>\n",
       "</div>"
      ],
      "text/plain": [
       "        Date Company  R&D_Spending_USD_Mn  AI_Revenue_USD_Mn  \\\n",
       "0 2015-01-01  OpenAI                 5.92               0.63   \n",
       "1 2015-01-02  OpenAI                 5.41               1.81   \n",
       "2 2015-01-03  OpenAI                 4.50               0.61   \n",
       "3 2015-01-04  OpenAI                 5.45               0.95   \n",
       "4 2015-01-05  OpenAI                 3.40               1.48   \n",
       "5 2015-01-06  OpenAI                 5.47               1.08   \n",
       "6 2015-01-07  OpenAI                 6.95               0.67   \n",
       "7 2015-01-08  OpenAI                 5.06               1.43   \n",
       "8 2015-01-09  OpenAI                 5.26               0.33   \n",
       "9 2015-01-10  OpenAI                 2.00               0.74   \n",
       "\n",
       "   AI_Revenue_Growth_% Event  Stock_Impact_%  \n",
       "0               -36.82   NaN           -0.36  \n",
       "1                80.59   NaN            0.41  \n",
       "2               -38.88   NaN            0.23  \n",
       "3                -5.34   NaN            0.93  \n",
       "4                48.45   NaN           -0.09  \n",
       "5                 8.32   NaN            0.74  \n",
       "6               -32.95   NaN           -0.80  \n",
       "7                43.49   NaN           -0.09  \n",
       "8               -67.28   NaN           -0.72  \n",
       "9               -25.80   NaN            0.50  "
      ]
     },
     "execution_count": 12,
     "metadata": {},
     "output_type": "execute_result"
    }
   ],
   "source": [
    "df.head(10)"
   ]
  },
  {
   "cell_type": "code",
   "execution_count": 13,
   "id": "abc34c41-91fa-4f1b-a29a-7a6f0d6d77d2",
   "metadata": {},
   "outputs": [
    {
     "data": {
      "text/plain": [
       "array(['OpenAI', 'Google', 'Meta'], dtype=object)"
      ]
     },
     "execution_count": 13,
     "metadata": {},
     "output_type": "execute_result"
    }
   ],
   "source": [
    "#Tra các công ty trong bảng\n",
    "df['Company'].unique()"
   ]
  },
  {
   "cell_type": "code",
   "execution_count": 14,
   "id": "2195030b-a61c-49ce-a389-b0e886e0b1d5",
   "metadata": {},
   "outputs": [
    {
     "data": {
      "text/plain": [
       "array([nan, 'Cloud AI launch', 'AI ethics policy update',\n",
       "       'AI-powered search update', 'AI Ads Optimization upgrade',\n",
       "       'AI partnership deal', 'AI Video Recommendation upgrade',\n",
       "       'AI speech recognition release', 'GPT-1 release', 'GPT-2 release',\n",
       "       'GPT-3 release', 'Codex release', 'DALL·E 2 release',\n",
       "       'ChatGPT (GPT-3.5) launch', 'GPT-4 release',\n",
       "       'GPT-5 release (predicted)', 'TensorFlow open-source release',\n",
       "       'AlphaGo beats Lee Sedol', 'BERT for Search launch',\n",
       "       'MUM Search Model launch', 'Bard chatbot launch',\n",
       "       'Gemini AI release', 'LLaMA 1 release', 'LLaMA 2 release',\n",
       "       'LLaMA 3 release (predicted)'], dtype=object)"
      ]
     },
     "execution_count": 14,
     "metadata": {},
     "output_type": "execute_result"
    }
   ],
   "source": [
    "#Tra các sự kiên events\n",
    "df['Event'].unique()"
   ]
  },
  {
   "cell_type": "code",
   "execution_count": 15,
   "id": "6ecfa82b-9b3c-4eef-8bdd-ac598c72fe88",
   "metadata": {},
   "outputs": [
    {
     "data": {
      "text/plain": [
       "Event\n",
       "AI speech recognition release      37\n",
       "AI Ads Optimization upgrade        32\n",
       "AI partnership deal                32\n",
       "AI-powered search update           32\n",
       "AI Video Recommendation upgrade    29\n",
       "AI ethics policy update            27\n",
       "Cloud AI launch                    27\n",
       "GPT-1 release                       1\n",
       "GPT-2 release                       1\n",
       "GPT-3 release                       1\n",
       "Codex release                       1\n",
       "DALL·E 2 release                    1\n",
       "ChatGPT (GPT-3.5) launch            1\n",
       "GPT-4 release                       1\n",
       "GPT-5 release (predicted)           1\n",
       "TensorFlow open-source release      1\n",
       "AlphaGo beats Lee Sedol             1\n",
       "BERT for Search launch              1\n",
       "MUM Search Model launch             1\n",
       "Bard chatbot launch                 1\n",
       "Gemini AI release                   1\n",
       "LLaMA 1 release                     1\n",
       "LLaMA 2 release                     1\n",
       "LLaMA 3 release (predicted)         1\n",
       "Name: count, dtype: int64"
      ]
     },
     "execution_count": 15,
     "metadata": {},
     "output_type": "execute_result"
    }
   ],
   "source": [
    "#Tính tổng số lần từng sự kiện diễn ra\n",
    "df['Event'].value_counts()"
   ]
  },
  {
   "cell_type": "code",
   "execution_count": 16,
   "id": "e04ff5a7",
   "metadata": {},
   "outputs": [
    {
     "data": {
      "text/plain": [
       "Date                       0\n",
       "Company                    0\n",
       "R&D_Spending_USD_Mn        0\n",
       "AI_Revenue_USD_Mn          0\n",
       "AI_Revenue_Growth_%        0\n",
       "Event                  10726\n",
       "Stock_Impact_%             0\n",
       "dtype: int64"
      ]
     },
     "execution_count": 16,
     "metadata": {},
     "output_type": "execute_result"
    }
   ],
   "source": [
    "#check các cột có dự liệu null\n",
    "df.isnull().sum()"
   ]
  },
  {
   "cell_type": "code",
   "execution_count": 23,
   "id": "1d12e59b",
   "metadata": {},
   "outputs": [],
   "source": [
    "#tạo cột mới \n",
    "df['Year_Date'] = df['Date'].dt.year"
   ]
  },
  {
   "cell_type": "code",
   "execution_count": 24,
   "id": "2802e7bc",
   "metadata": {},
   "outputs": [
    {
     "data": {
      "text/plain": [
       "array([2015, 2016, 2017, 2018, 2019, 2020, 2021, 2022, 2023, 2024],\n",
       "      dtype=int32)"
      ]
     },
     "execution_count": 24,
     "metadata": {},
     "output_type": "execute_result"
    }
   ],
   "source": [
    "df['Year_Date'].unique()"
   ]
  },
  {
   "cell_type": "markdown",
   "id": "a0adb875",
   "metadata": {},
   "source": [
    "How much amount the companies spent on R & D ? (câu hỏi 1)"
   ]
  },
  {
   "cell_type": "code",
   "execution_count": 25,
   "id": "fa2559ca-d583-45aa-b52b-b4aa7b3605d6",
   "metadata": {},
   "outputs": [
    {
     "data": {
      "text/html": [
       "<div>\n",
       "<style scoped>\n",
       "    .dataframe tbody tr th:only-of-type {\n",
       "        vertical-align: middle;\n",
       "    }\n",
       "\n",
       "    .dataframe tbody tr th {\n",
       "        vertical-align: top;\n",
       "    }\n",
       "\n",
       "    .dataframe thead th {\n",
       "        text-align: right;\n",
       "    }\n",
       "</style>\n",
       "<table border=\"1\" class=\"dataframe\">\n",
       "  <thead>\n",
       "    <tr style=\"text-align: right;\">\n",
       "      <th></th>\n",
       "      <th>Company</th>\n",
       "      <th>R&amp;D_Spending_USD_Mn</th>\n",
       "    </tr>\n",
       "  </thead>\n",
       "  <tbody>\n",
       "    <tr>\n",
       "      <th>0</th>\n",
       "      <td>Google</td>\n",
       "      <td>423341.14</td>\n",
       "    </tr>\n",
       "    <tr>\n",
       "      <th>1</th>\n",
       "      <td>Meta</td>\n",
       "      <td>264533.07</td>\n",
       "    </tr>\n",
       "    <tr>\n",
       "      <th>2</th>\n",
       "      <td>OpenAI</td>\n",
       "      <td>26482.77</td>\n",
       "    </tr>\n",
       "  </tbody>\n",
       "</table>\n",
       "</div>"
      ],
      "text/plain": [
       "  Company  R&D_Spending_USD_Mn\n",
       "0  Google            423341.14\n",
       "1    Meta            264533.07\n",
       "2  OpenAI             26482.77"
      ]
     },
     "execution_count": 25,
     "metadata": {},
     "output_type": "execute_result"
    }
   ],
   "source": [
    "RD = df.groupby('Company')['R&D_Spending_USD_Mn'].sum().reset_index()\n",
    "RD"
   ]
  },
  {
   "cell_type": "code",
   "execution_count": 35,
   "id": "d25922ce-1af1-4a7f-8225-4c09eb72a467",
   "metadata": {},
   "outputs": [
    {
     "data": {
      "text/plain": [
       "Text(0, 0.5, 'Amount in USD_$Mn')"
      ]
     },
     "execution_count": 35,
     "metadata": {},
     "output_type": "execute_result"
    },
    {
     "data": {
      "image/png": "[encoded data removed]",
      "text/plain": [
       "<Figure size 640x480 with 1 Axes>"
      ]
     },
     "metadata": {},
     "output_type": "display_data"
    }
   ],
   "source": [
    "#vẽ biểu dồ hiển thị\n",
    "plt.bar(RD['Company'],RD['R&D_Spending_USD_Mn'], color =['black', 'blue', 'green'])\n",
    "plt.title( \"R&D Spending by the companies\")\n",
    "plt.xlabel(\"Company\")\n",
    "plt.ylabel(\"Amount in USD_$Mn\")"
   ]
  },
  {
   "cell_type": "markdown",
   "id": "83b1170a",
   "metadata": {},
   "source": [
    "Khoản đầu tư vào AI mỗi năm ở các công ty (Câu hỏi 2)"
   ]
  },
  {
   "cell_type": "code",
   "execution_count": 26,
   "id": "19391717",
   "metadata": {},
   "outputs": [
    {
     "data": {
      "text/plain": [
       "Year_Date\n",
       "2015    49304.23\n",
       "2016    53349.94\n",
       "2017    57475.12\n",
       "2018    62002.16\n",
       "2019    67071.51\n",
       "2020    72602.53\n",
       "2021    78207.32\n",
       "2022    84390.17\n",
       "2023    91193.92\n",
       "2024    98760.08\n",
       "Name: R&D_Spending_USD_Mn, dtype: float64"
      ]
     },
     "execution_count": 26,
     "metadata": {},
     "output_type": "execute_result"
    }
   ],
   "source": [
    "R_D_spend = df.groupby('Year_Date')['R&D_Spending_USD_Mn'].sum()\n",
    "R_D_spend"
   ]
  },
  {
   "cell_type": "code",
   "execution_count": 27,
   "id": "eedce1c2",
   "metadata": {},
   "outputs": [
    {
     "data": {
      "text/plain": [
       "Text(0, 0.5, 'R&D Spending (USD $Mn)')"
      ]
     },
     "execution_count": 27,
     "metadata": {},
     "output_type": "execute_result"
    },
    {
     "data": {
      "image/png": "[encoded data removed]",
      "text/plain": [
       "<Figure size 1000x500 with 1 Axes>"
      ]
     },
     "metadata": {},
     "output_type": "display_data"
    }
   ],
   "source": [
    "\n",
    "plt.figure(figsize=(10,5))\n",
    "plt.plot(R_D_spend.index, R_D_spend.values, color='skyblue')\n",
    "plt.title(\"R&D Spending by Year\")\n",
    "plt.xlabel(\"Year\")\n",
    "plt.ylabel(\"R&D Spending (USD $Mn)\")"
   ]
  },
  {
   "cell_type": "markdown",
   "id": "4dda0517",
   "metadata": {},
   "source": [
    "Liên hệ với revenue"
   ]
  },
  {
   "cell_type": "code",
   "execution_count": 28,
   "id": "7a153342",
   "metadata": {},
   "outputs": [
    {
     "data": {
      "text/plain": [
       "Year_Date\n",
       "2015    18623.21\n",
       "2016    22361.20\n",
       "2017    26776.80\n",
       "2018    32164.44\n",
       "2019    38580.32\n",
       "2020    46456.19\n",
       "2021    55591.14\n",
       "2022    66674.24\n",
       "2023    80041.64\n",
       "2024    96313.91\n",
       "Name: AI_Revenue_USD_Mn, dtype: float64"
      ]
     },
     "execution_count": 28,
     "metadata": {},
     "output_type": "execute_result"
    }
   ],
   "source": [
    "revenue = df.groupby('Year_Date')['AI_Revenue_USD_Mn'].sum()\n",
    "\n",
    "revenue"
   ]
  },
  {
   "cell_type": "code",
   "execution_count": 29,
   "id": "da5eb687",
   "metadata": {},
   "outputs": [
    {
     "data": {
      "text/plain": [
       "Text(0, 0.5, 'R&D Spending (USD $Mn)')"
      ]
     },
     "execution_count": 29,
     "metadata": {},
     "output_type": "execute_result"
    },
    {
     "data": {
      "image/png": "[encoded data removed]",
      "text/plain": [
       "<Figure size 1000x500 with 1 Axes>"
      ]
     },
     "metadata": {},
     "output_type": "display_data"
    }
   ],
   "source": [
    "plt.figure(figsize=(10,5))\n",
    "plt.plot(R_D_spend.index, R_D_spend.values, color='skyblue')\n",
    "plt.plot( revenue.index, revenue.values, color = 'g')\n",
    "plt.title(\"R&D Spending & Revenue by Year\")\n",
    "plt.legend(['Expenditure', 'Revenue'])\n",
    "plt.xlabel(\"Year\")\n",
    "plt.ylabel(\"R&D Spending (USD $Mn)\")"
   ]
  },
  {
   "cell_type": "markdown",
   "id": "472f1291",
   "metadata": {},
   "source": [
    "Revenue per company(Câu hỏi 3)"
   ]
  },
  {
   "cell_type": "code",
   "execution_count": null,
   "id": "697522bd-9aaf-4363-9a28-cdb45b30cecd",
   "metadata": {},
   "outputs": [
    {
     "data": {
      "text/html": [
       "<div>\n",
       "<style scoped>\n",
       "    .dataframe tbody tr th:only-of-type {\n",
       "        vertical-align: middle;\n",
       "    }\n",
       "\n",
       "    .dataframe tbody tr th {\n",
       "        vertical-align: top;\n",
       "    }\n",
       "\n",
       "    .dataframe thead th {\n",
       "        text-align: right;\n",
       "    }\n",
       "</style>\n",
       "<table border=\"1\" class=\"dataframe\">\n",
       "  <thead>\n",
       "    <tr style=\"text-align: right;\">\n",
       "      <th></th>\n",
       "      <th>Date</th>\n",
       "      <th>Company</th>\n",
       "      <th>R&amp;D_Spending_USD_Mn</th>\n",
       "      <th>AI_Revenue_USD_Mn</th>\n",
       "      <th>AI_Revenue_Growth_%</th>\n",
       "      <th>Event</th>\n",
       "      <th>Stock_Impact_%</th>\n",
       "      <th>Year_Date</th>\n",
       "    </tr>\n",
       "  </thead>\n",
       "  <tbody>\n",
       "    <tr>\n",
       "      <th>0</th>\n",
       "      <td>2015-01-01</td>\n",
       "      <td>OpenAI</td>\n",
       "      <td>5.92</td>\n",
       "      <td>0.63</td>\n",
       "      <td>-36.82</td>\n",
       "      <td>NaN</td>\n",
       "      <td>-0.36</td>\n",
       "      <td>2015</td>\n",
       "    </tr>\n",
       "    <tr>\n",
       "      <th>1</th>\n",
       "      <td>2015-01-02</td>\n",
       "      <td>OpenAI</td>\n",
       "      <td>5.41</td>\n",
       "      <td>1.81</td>\n",
       "      <td>80.59</td>\n",
       "      <td>NaN</td>\n",
       "      <td>0.41</td>\n",
       "      <td>2015</td>\n",
       "    </tr>\n",
       "    <tr>\n",
       "      <th>2</th>\n",
       "      <td>2015-01-03</td>\n",
       "      <td>OpenAI</td>\n",
       "      <td>4.50</td>\n",
       "      <td>0.61</td>\n",
       "      <td>-38.88</td>\n",
       "      <td>NaN</td>\n",
       "      <td>0.23</td>\n",
       "      <td>2015</td>\n",
       "    </tr>\n",
       "    <tr>\n",
       "      <th>3</th>\n",
       "      <td>2015-01-04</td>\n",
       "      <td>OpenAI</td>\n",
       "      <td>5.45</td>\n",
       "      <td>0.95</td>\n",
       "      <td>-5.34</td>\n",
       "      <td>NaN</td>\n",
       "      <td>0.93</td>\n",
       "      <td>2015</td>\n",
       "    </tr>\n",
       "    <tr>\n",
       "      <th>4</th>\n",
       "      <td>2015-01-05</td>\n",
       "      <td>OpenAI</td>\n",
       "      <td>3.40</td>\n",
       "      <td>1.48</td>\n",
       "      <td>48.45</td>\n",
       "      <td>NaN</td>\n",
       "      <td>-0.09</td>\n",
       "      <td>2015</td>\n",
       "    </tr>\n",
       "    <tr>\n",
       "      <th>...</th>\n",
       "      <td>...</td>\n",
       "      <td>...</td>\n",
       "      <td>...</td>\n",
       "      <td>...</td>\n",
       "      <td>...</td>\n",
       "      <td>...</td>\n",
       "      <td>...</td>\n",
       "      <td>...</td>\n",
       "    </tr>\n",
       "    <tr>\n",
       "      <th>10954</th>\n",
       "      <td>2024-12-27</td>\n",
       "      <td>Meta</td>\n",
       "      <td>100.19</td>\n",
       "      <td>103.54</td>\n",
       "      <td>417.68</td>\n",
       "      <td>NaN</td>\n",
       "      <td>-0.66</td>\n",
       "      <td>2024</td>\n",
       "    </tr>\n",
       "    <tr>\n",
       "      <th>10955</th>\n",
       "      <td>2024-12-28</td>\n",
       "      <td>Meta</td>\n",
       "      <td>99.12</td>\n",
       "      <td>102.37</td>\n",
       "      <td>411.86</td>\n",
       "      <td>NaN</td>\n",
       "      <td>-0.57</td>\n",
       "      <td>2024</td>\n",
       "    </tr>\n",
       "    <tr>\n",
       "      <th>10956</th>\n",
       "      <td>2024-12-29</td>\n",
       "      <td>Meta</td>\n",
       "      <td>98.95</td>\n",
       "      <td>103.11</td>\n",
       "      <td>415.54</td>\n",
       "      <td>NaN</td>\n",
       "      <td>-0.52</td>\n",
       "      <td>2024</td>\n",
       "    </tr>\n",
       "    <tr>\n",
       "      <th>10957</th>\n",
       "      <td>2024-12-30</td>\n",
       "      <td>Meta</td>\n",
       "      <td>100.74</td>\n",
       "      <td>103.21</td>\n",
       "      <td>416.03</td>\n",
       "      <td>NaN</td>\n",
       "      <td>0.22</td>\n",
       "      <td>2024</td>\n",
       "    </tr>\n",
       "    <tr>\n",
       "      <th>10958</th>\n",
       "      <td>2024-12-31</td>\n",
       "      <td>Meta</td>\n",
       "      <td>100.08</td>\n",
       "      <td>103.41</td>\n",
       "      <td>417.04</td>\n",
       "      <td>NaN</td>\n",
       "      <td>-0.16</td>\n",
       "      <td>2024</td>\n",
       "    </tr>\n",
       "  </tbody>\n",
       "</table>\n",
       "<p>10959 rows × 8 columns</p>\n",
       "</div>"
      ],
      "text/plain": [
       "            Date Company  R&D_Spending_USD_Mn  AI_Revenue_USD_Mn  \\\n",
       "0     2015-01-01  OpenAI                 5.92               0.63   \n",
       "1     2015-01-02  OpenAI                 5.41               1.81   \n",
       "2     2015-01-03  OpenAI                 4.50               0.61   \n",
       "3     2015-01-04  OpenAI                 5.45               0.95   \n",
       "4     2015-01-05  OpenAI                 3.40               1.48   \n",
       "...          ...     ...                  ...                ...   \n",
       "10954 2024-12-27    Meta               100.19             103.54   \n",
       "10955 2024-12-28    Meta                99.12             102.37   \n",
       "10956 2024-12-29    Meta                98.95             103.11   \n",
       "10957 2024-12-30    Meta               100.74             103.21   \n",
       "10958 2024-12-31    Meta               100.08             103.41   \n",
       "\n",
       "       AI_Revenue_Growth_% Event  Stock_Impact_%  Year_Date  \n",
       "0                   -36.82   NaN           -0.36       2015  \n",
       "1                    80.59   NaN            0.41       2015  \n",
       "2                   -38.88   NaN            0.23       2015  \n",
       "3                    -5.34   NaN            0.93       2015  \n",
       "4                    48.45   NaN           -0.09       2015  \n",
       "...                    ...   ...             ...        ...  \n",
       "10954               417.68   NaN           -0.66       2024  \n",
       "10955               411.86   NaN           -0.57       2024  \n",
       "10956               415.54   NaN           -0.52       2024  \n",
       "10957               416.03   NaN            0.22       2024  \n",
       "10958               417.04   NaN           -0.16       2024  \n",
       "\n",
       "[10959 rows x 8 columns]"
      ]
     },
     "execution_count": 24,
     "metadata": {},
     "output_type": "execute_result"
    }
   ],
   "source": [
    "df\n"
   ]
  },
  {
   "cell_type": "code",
   "execution_count": 30,
   "id": "92870cfd",
   "metadata": {},
   "outputs": [
    {
     "data": {
      "text/html": [
       "<div>\n",
       "<style scoped>\n",
       "    .dataframe tbody tr th:only-of-type {\n",
       "        vertical-align: middle;\n",
       "    }\n",
       "\n",
       "    .dataframe tbody tr th {\n",
       "        vertical-align: top;\n",
       "    }\n",
       "\n",
       "    .dataframe thead th {\n",
       "        text-align: right;\n",
       "    }\n",
       "</style>\n",
       "<table border=\"1\" class=\"dataframe\">\n",
       "  <thead>\n",
       "    <tr style=\"text-align: right;\">\n",
       "      <th></th>\n",
       "      <th>Company</th>\n",
       "      <th>AI_Revenue_USD_Mn</th>\n",
       "    </tr>\n",
       "  </thead>\n",
       "  <tbody>\n",
       "    <tr>\n",
       "      <th>0</th>\n",
       "      <td>Google</td>\n",
       "      <td>284498.38</td>\n",
       "    </tr>\n",
       "    <tr>\n",
       "      <th>1</th>\n",
       "      <td>Meta</td>\n",
       "      <td>189621.82</td>\n",
       "    </tr>\n",
       "    <tr>\n",
       "      <th>2</th>\n",
       "      <td>OpenAI</td>\n",
       "      <td>9462.89</td>\n",
       "    </tr>\n",
       "  </tbody>\n",
       "</table>\n",
       "</div>"
      ],
      "text/plain": [
       "  Company  AI_Revenue_USD_Mn\n",
       "0  Google          284498.38\n",
       "1    Meta          189621.82\n",
       "2  OpenAI            9462.89"
      ]
     },
     "execution_count": 30,
     "metadata": {},
     "output_type": "execute_result"
    }
   ],
   "source": [
    "\n",
    "rev=df.groupby('Company').agg({'AI_Revenue_USD_Mn':'sum'}).reset_index()\n",
    "rev"
   ]
  },
  {
   "cell_type": "code",
   "execution_count": 31,
   "id": "99c2a6ed-5f29-4989-a773-cc8d5bfe65aa",
   "metadata": {},
   "outputs": [
    {
     "data": {
      "text/plain": [
       "Text(0, 0.5, 'Amount in USD_$Mn')"
      ]
     },
     "execution_count": 31,
     "metadata": {},
     "output_type": "execute_result"
    },
    {
     "data": {
      "image/png": "[encoded data removed]",
      "text/plain": [
       "<Figure size 640x480 with 1 Axes>"
      ]
     },
     "metadata": {},
     "output_type": "display_data"
    }
   ],
   "source": [
    "#vẽ biểu dồ hiển thị\n",
    "plt.bar(rev['Company'],rev['AI_Revenue_USD_Mn'], color =['black', 'blue', 'green'])\n",
    "plt.title( \"R&D Spending by the companies\")\n",
    "plt.xlabel(\"Company\")\n",
    "plt.ylabel(\"Amount in USD_$Mn\")"
   ]
  },
  {
   "cell_type": "markdown",
   "id": "6e196c05",
   "metadata": {},
   "source": [
    "Tổng hợp câu hỏi 1 và câu hỏi 2"
   ]
  },
  {
   "cell_type": "code",
   "execution_count": 36,
   "id": "5ed60287-b798-45e7-a02c-1fea03e58103",
   "metadata": {},
   "outputs": [
    {
     "data": {
      "image/png": "[encoded data removed]",
      "text/plain": [
       "<Figure size 1000x400 with 2 Axes>"
      ]
     },
     "metadata": {},
     "output_type": "display_data"
    }
   ],
   "source": [
    "plt.figure(figsize = (10,4))   \n",
    "\n",
    "plt.subplot(1,2,1)             # Vẽ biểu đồ đầu tiên (1 hàng, 2 cột, vị trí số 1)\n",
    "plt.bar(RD['Company'],RD['R&D_Spending_USD_Mn'], color =['black', 'blue', 'green'])\n",
    "plt.title( \"R&D Spending by the companies\")\n",
    "plt.xlabel(\"Company\")\n",
    "plt.ylabel(\"Amount in USD_$Mn\")\n",
    "\n",
    "plt.subplot(1,2,2)             # Vẽ biểu đồ thứ hai (1 hàng, 2 cột, vị trí số 2)\n",
    "plt.bar(rev.index, rev['AI_Revenue_USD_Mn'], color = ['cyan', 'black', 'magenta'])\n",
    "plt.title(\"Revenue earned by the companies\")\n",
    "plt.xlabel(\"Company\")\n",
    "plt.ylabel(\"Amount in USD_$Mn\")\n",
    "\n",
    "plt.tight_layout()             \n",
    "plt.show()\n",
    "\n"
   ]
  },
  {
   "cell_type": "markdown",
   "id": "2314ae42",
   "metadata": {},
   "source": [
    "Datewise Impact on the Stock (Câu hỏi 3)"
   ]
  },
  {
   "cell_type": "code",
   "execution_count": null,
   "id": "90772d23-9406-4329-a03e-e58c4b2046db",
   "metadata": {},
   "outputs": [
    {
     "data": {
      "text/html": [
       "<div>\n",
       "<style scoped>\n",
       "    .dataframe tbody tr th:only-of-type {\n",
       "        vertical-align: middle;\n",
       "    }\n",
       "\n",
       "    .dataframe tbody tr th {\n",
       "        vertical-align: top;\n",
       "    }\n",
       "\n",
       "    .dataframe thead th {\n",
       "        text-align: right;\n",
       "    }\n",
       "</style>\n",
       "<table border=\"1\" class=\"dataframe\">\n",
       "  <thead>\n",
       "    <tr style=\"text-align: right;\">\n",
       "      <th></th>\n",
       "      <th>Date</th>\n",
       "      <th>Company</th>\n",
       "      <th>R&amp;D_Spending_USD_Mn</th>\n",
       "      <th>AI_Revenue_USD_Mn</th>\n",
       "      <th>AI_Revenue_Growth_%</th>\n",
       "      <th>Event</th>\n",
       "      <th>Stock_Impact_%</th>\n",
       "    </tr>\n",
       "  </thead>\n",
       "  <tbody>\n",
       "    <tr>\n",
       "      <th>0</th>\n",
       "      <td>2015-01-01</td>\n",
       "      <td>OpenAI</td>\n",
       "      <td>5.92</td>\n",
       "      <td>0.63</td>\n",
       "      <td>-36.82</td>\n",
       "      <td>NaN</td>\n",
       "      <td>-0.36</td>\n",
       "    </tr>\n",
       "    <tr>\n",
       "      <th>1</th>\n",
       "      <td>2015-01-02</td>\n",
       "      <td>OpenAI</td>\n",
       "      <td>5.41</td>\n",
       "      <td>1.81</td>\n",
       "      <td>80.59</td>\n",
       "      <td>NaN</td>\n",
       "      <td>0.41</td>\n",
       "    </tr>\n",
       "    <tr>\n",
       "      <th>2</th>\n",
       "      <td>2015-01-03</td>\n",
       "      <td>OpenAI</td>\n",
       "      <td>4.50</td>\n",
       "      <td>0.61</td>\n",
       "      <td>-38.88</td>\n",
       "      <td>NaN</td>\n",
       "      <td>0.23</td>\n",
       "    </tr>\n",
       "    <tr>\n",
       "      <th>3</th>\n",
       "      <td>2015-01-04</td>\n",
       "      <td>OpenAI</td>\n",
       "      <td>5.45</td>\n",
       "      <td>0.95</td>\n",
       "      <td>-5.34</td>\n",
       "      <td>NaN</td>\n",
       "      <td>0.93</td>\n",
       "    </tr>\n",
       "    <tr>\n",
       "      <th>4</th>\n",
       "      <td>2015-01-05</td>\n",
       "      <td>OpenAI</td>\n",
       "      <td>3.40</td>\n",
       "      <td>1.48</td>\n",
       "      <td>48.45</td>\n",
       "      <td>NaN</td>\n",
       "      <td>-0.09</td>\n",
       "    </tr>\n",
       "    <tr>\n",
       "      <th>...</th>\n",
       "      <td>...</td>\n",
       "      <td>...</td>\n",
       "      <td>...</td>\n",
       "      <td>...</td>\n",
       "      <td>...</td>\n",
       "      <td>...</td>\n",
       "      <td>...</td>\n",
       "    </tr>\n",
       "    <tr>\n",
       "      <th>10954</th>\n",
       "      <td>2024-12-27</td>\n",
       "      <td>Meta</td>\n",
       "      <td>100.19</td>\n",
       "      <td>103.54</td>\n",
       "      <td>417.68</td>\n",
       "      <td>NaN</td>\n",
       "      <td>-0.66</td>\n",
       "    </tr>\n",
       "    <tr>\n",
       "      <th>10955</th>\n",
       "      <td>2024-12-28</td>\n",
       "      <td>Meta</td>\n",
       "      <td>99.12</td>\n",
       "      <td>102.37</td>\n",
       "      <td>411.86</td>\n",
       "      <td>NaN</td>\n",
       "      <td>-0.57</td>\n",
       "    </tr>\n",
       "    <tr>\n",
       "      <th>10956</th>\n",
       "      <td>2024-12-29</td>\n",
       "      <td>Meta</td>\n",
       "      <td>98.95</td>\n",
       "      <td>103.11</td>\n",
       "      <td>415.54</td>\n",
       "      <td>NaN</td>\n",
       "      <td>-0.52</td>\n",
       "    </tr>\n",
       "    <tr>\n",
       "      <th>10957</th>\n",
       "      <td>2024-12-30</td>\n",
       "      <td>Meta</td>\n",
       "      <td>100.74</td>\n",
       "      <td>103.21</td>\n",
       "      <td>416.03</td>\n",
       "      <td>NaN</td>\n",
       "      <td>0.22</td>\n",
       "    </tr>\n",
       "    <tr>\n",
       "      <th>10958</th>\n",
       "      <td>2024-12-31</td>\n",
       "      <td>Meta</td>\n",
       "      <td>100.08</td>\n",
       "      <td>103.41</td>\n",
       "      <td>417.04</td>\n",
       "      <td>NaN</td>\n",
       "      <td>-0.16</td>\n",
       "    </tr>\n",
       "  </tbody>\n",
       "</table>\n",
       "<p>10959 rows × 7 columns</p>\n",
       "</div>"
      ],
      "text/plain": [
       "            Date Company  R&D_Spending_USD_Mn  AI_Revenue_USD_Mn  \\\n",
       "0     2015-01-01  OpenAI                 5.92               0.63   \n",
       "1     2015-01-02  OpenAI                 5.41               1.81   \n",
       "2     2015-01-03  OpenAI                 4.50               0.61   \n",
       "3     2015-01-04  OpenAI                 5.45               0.95   \n",
       "4     2015-01-05  OpenAI                 3.40               1.48   \n",
       "...          ...     ...                  ...                ...   \n",
       "10954 2024-12-27    Meta               100.19             103.54   \n",
       "10955 2024-12-28    Meta                99.12             102.37   \n",
       "10956 2024-12-29    Meta                98.95             103.11   \n",
       "10957 2024-12-30    Meta               100.74             103.21   \n",
       "10958 2024-12-31    Meta               100.08             103.41   \n",
       "\n",
       "       AI_Revenue_Growth_% Event  Stock_Impact_%  \n",
       "0                   -36.82   NaN           -0.36  \n",
       "1                    80.59   NaN            0.41  \n",
       "2                   -38.88   NaN            0.23  \n",
       "3                    -5.34   NaN            0.93  \n",
       "4                    48.45   NaN           -0.09  \n",
       "...                    ...   ...             ...  \n",
       "10954               417.68   NaN           -0.66  \n",
       "10955               411.86   NaN           -0.57  \n",
       "10956               415.54   NaN           -0.52  \n",
       "10957               416.03   NaN            0.22  \n",
       "10958               417.04   NaN           -0.16  \n",
       "\n",
       "[10959 rows x 7 columns]"
      ]
     },
     "execution_count": 65,
     "metadata": {},
     "output_type": "execute_result"
    }
   ],
   "source": [
    "\n",
    "df"
   ]
  },
  {
   "cell_type": "code",
   "execution_count": 102,
   "id": "12241a6f-80a1-4788-9fac-c62709ca2f48",
   "metadata": {},
   "outputs": [
    {
     "data": {
      "text/html": [
       "<div>\n",
       "<style scoped>\n",
       "    .dataframe tbody tr th:only-of-type {\n",
       "        vertical-align: middle;\n",
       "    }\n",
       "\n",
       "    .dataframe tbody tr th {\n",
       "        vertical-align: top;\n",
       "    }\n",
       "\n",
       "    .dataframe thead th {\n",
       "        text-align: right;\n",
       "    }\n",
       "</style>\n",
       "<table border=\"1\" class=\"dataframe\">\n",
       "  <thead>\n",
       "    <tr style=\"text-align: right;\">\n",
       "      <th></th>\n",
       "      <th>Company</th>\n",
       "      <th>Year_Date</th>\n",
       "      <th>Stock_Impact_%</th>\n",
       "    </tr>\n",
       "  </thead>\n",
       "  <tbody>\n",
       "    <tr>\n",
       "      <th>0</th>\n",
       "      <td>Google</td>\n",
       "      <td>2015</td>\n",
       "      <td>-0.030192</td>\n",
       "    </tr>\n",
       "    <tr>\n",
       "      <th>1</th>\n",
       "      <td>Google</td>\n",
       "      <td>2016</td>\n",
       "      <td>0.055492</td>\n",
       "    </tr>\n",
       "    <tr>\n",
       "      <th>2</th>\n",
       "      <td>Google</td>\n",
       "      <td>2017</td>\n",
       "      <td>0.026795</td>\n",
       "    </tr>\n",
       "    <tr>\n",
       "      <th>3</th>\n",
       "      <td>Google</td>\n",
       "      <td>2018</td>\n",
       "      <td>0.068795</td>\n",
       "    </tr>\n",
       "    <tr>\n",
       "      <th>4</th>\n",
       "      <td>Google</td>\n",
       "      <td>2019</td>\n",
       "      <td>0.000466</td>\n",
       "    </tr>\n",
       "    <tr>\n",
       "      <th>5</th>\n",
       "      <td>Google</td>\n",
       "      <td>2020</td>\n",
       "      <td>-0.000301</td>\n",
       "    </tr>\n",
       "    <tr>\n",
       "      <th>6</th>\n",
       "      <td>Google</td>\n",
       "      <td>2021</td>\n",
       "      <td>0.010384</td>\n",
       "    </tr>\n",
       "    <tr>\n",
       "      <th>7</th>\n",
       "      <td>Google</td>\n",
       "      <td>2022</td>\n",
       "      <td>0.063671</td>\n",
       "    </tr>\n",
       "    <tr>\n",
       "      <th>8</th>\n",
       "      <td>Google</td>\n",
       "      <td>2023</td>\n",
       "      <td>0.045315</td>\n",
       "    </tr>\n",
       "    <tr>\n",
       "      <th>9</th>\n",
       "      <td>Google</td>\n",
       "      <td>2024</td>\n",
       "      <td>0.021667</td>\n",
       "    </tr>\n",
       "    <tr>\n",
       "      <th>10</th>\n",
       "      <td>Meta</td>\n",
       "      <td>2015</td>\n",
       "      <td>0.024411</td>\n",
       "    </tr>\n",
       "    <tr>\n",
       "      <th>11</th>\n",
       "      <td>Meta</td>\n",
       "      <td>2016</td>\n",
       "      <td>-0.042896</td>\n",
       "    </tr>\n",
       "    <tr>\n",
       "      <th>12</th>\n",
       "      <td>Meta</td>\n",
       "      <td>2017</td>\n",
       "      <td>-0.014767</td>\n",
       "    </tr>\n",
       "    <tr>\n",
       "      <th>13</th>\n",
       "      <td>Meta</td>\n",
       "      <td>2018</td>\n",
       "      <td>0.036548</td>\n",
       "    </tr>\n",
       "    <tr>\n",
       "      <th>14</th>\n",
       "      <td>Meta</td>\n",
       "      <td>2019</td>\n",
       "      <td>-0.007342</td>\n",
       "    </tr>\n",
       "    <tr>\n",
       "      <th>15</th>\n",
       "      <td>Meta</td>\n",
       "      <td>2020</td>\n",
       "      <td>0.002404</td>\n",
       "    </tr>\n",
       "    <tr>\n",
       "      <th>16</th>\n",
       "      <td>Meta</td>\n",
       "      <td>2021</td>\n",
       "      <td>-0.019425</td>\n",
       "    </tr>\n",
       "    <tr>\n",
       "      <th>17</th>\n",
       "      <td>Meta</td>\n",
       "      <td>2022</td>\n",
       "      <td>0.031370</td>\n",
       "    </tr>\n",
       "    <tr>\n",
       "      <th>18</th>\n",
       "      <td>Meta</td>\n",
       "      <td>2023</td>\n",
       "      <td>0.035151</td>\n",
       "    </tr>\n",
       "    <tr>\n",
       "      <th>19</th>\n",
       "      <td>Meta</td>\n",
       "      <td>2024</td>\n",
       "      <td>0.052213</td>\n",
       "    </tr>\n",
       "    <tr>\n",
       "      <th>20</th>\n",
       "      <td>OpenAI</td>\n",
       "      <td>2015</td>\n",
       "      <td>0.040795</td>\n",
       "    </tr>\n",
       "    <tr>\n",
       "      <th>21</th>\n",
       "      <td>OpenAI</td>\n",
       "      <td>2016</td>\n",
       "      <td>0.051093</td>\n",
       "    </tr>\n",
       "    <tr>\n",
       "      <th>22</th>\n",
       "      <td>OpenAI</td>\n",
       "      <td>2017</td>\n",
       "      <td>-0.010712</td>\n",
       "    </tr>\n",
       "    <tr>\n",
       "      <th>23</th>\n",
       "      <td>OpenAI</td>\n",
       "      <td>2018</td>\n",
       "      <td>0.017096</td>\n",
       "    </tr>\n",
       "    <tr>\n",
       "      <th>24</th>\n",
       "      <td>OpenAI</td>\n",
       "      <td>2019</td>\n",
       "      <td>0.020411</td>\n",
       "    </tr>\n",
       "    <tr>\n",
       "      <th>25</th>\n",
       "      <td>OpenAI</td>\n",
       "      <td>2020</td>\n",
       "      <td>0.011038</td>\n",
       "    </tr>\n",
       "    <tr>\n",
       "      <th>26</th>\n",
       "      <td>OpenAI</td>\n",
       "      <td>2021</td>\n",
       "      <td>0.052137</td>\n",
       "    </tr>\n",
       "    <tr>\n",
       "      <th>27</th>\n",
       "      <td>OpenAI</td>\n",
       "      <td>2022</td>\n",
       "      <td>0.105945</td>\n",
       "    </tr>\n",
       "    <tr>\n",
       "      <th>28</th>\n",
       "      <td>OpenAI</td>\n",
       "      <td>2023</td>\n",
       "      <td>0.082904</td>\n",
       "    </tr>\n",
       "    <tr>\n",
       "      <th>29</th>\n",
       "      <td>OpenAI</td>\n",
       "      <td>2024</td>\n",
       "      <td>0.036448</td>\n",
       "    </tr>\n",
       "  </tbody>\n",
       "</table>\n",
       "</div>"
      ],
      "text/plain": [
       "   Company  Year_Date  Stock_Impact_%\n",
       "0   Google       2015       -0.030192\n",
       "1   Google       2016        0.055492\n",
       "2   Google       2017        0.026795\n",
       "3   Google       2018        0.068795\n",
       "4   Google       2019        0.000466\n",
       "5   Google       2020       -0.000301\n",
       "6   Google       2021        0.010384\n",
       "7   Google       2022        0.063671\n",
       "8   Google       2023        0.045315\n",
       "9   Google       2024        0.021667\n",
       "10    Meta       2015        0.024411\n",
       "11    Meta       2016       -0.042896\n",
       "12    Meta       2017       -0.014767\n",
       "13    Meta       2018        0.036548\n",
       "14    Meta       2019       -0.007342\n",
       "15    Meta       2020        0.002404\n",
       "16    Meta       2021       -0.019425\n",
       "17    Meta       2022        0.031370\n",
       "18    Meta       2023        0.035151\n",
       "19    Meta       2024        0.052213\n",
       "20  OpenAI       2015        0.040795\n",
       "21  OpenAI       2016        0.051093\n",
       "22  OpenAI       2017       -0.010712\n",
       "23  OpenAI       2018        0.017096\n",
       "24  OpenAI       2019        0.020411\n",
       "25  OpenAI       2020        0.011038\n",
       "26  OpenAI       2021        0.052137\n",
       "27  OpenAI       2022        0.105945\n",
       "28  OpenAI       2023        0.082904\n",
       "29  OpenAI       2024        0.036448"
      ]
     },
     "execution_count": 102,
     "metadata": {},
     "output_type": "execute_result"
    }
   ],
   "source": [
    "Ip= df.groupby(['Company','Year_Date'])['Stock_Impact_%'].mean().reset_index()\n",
    "Ip"
   ]
  },
  {
   "cell_type": "code",
   "execution_count": 26,
   "id": "2b535673-b1b2-4765-8012-f2e92345c3f1",
   "metadata": {},
   "outputs": [
    {
     "data": {
      "text/plain": [
       "Text(0, 0.5, 'Stock_Impact_%')"
      ]
     },
     "execution_count": 26,
     "metadata": {},
     "output_type": "execute_result"
    },
    {
     "data": {
      "image/png": "[encoded data removed]",
      "text/plain": [
       "<Figure size 1000x500 with 1 Axes>"
      ]
     },
     "metadata": {},
     "output_type": "display_data"
    }
   ],
   "source": [
    "plt.figure(figsize = (10,5))\n",
    "\n",
    "plt.plot(df['Date'], df['Stock_Impact_%'], color = 'green')\n",
    "\n",
    "plt.title(\"Change in Stock value\")\n",
    "plt.xlabel(\"Date ('Year')\")\n",
    "plt.ylabel(\"Stock_Impact_%\")"
   ]
  },
  {
   "cell_type": "code",
   "execution_count": null,
   "id": "a984adc2-532d-448b-ae7e-a7ee09417dea",
   "metadata": {},
   "outputs": [
    {
     "data": {
      "text/plain": [
       "<Axes: xlabel='Year_Date', ylabel='Stock_Impact_%'>"
      ]
     },
     "execution_count": 103,
     "metadata": {},
     "output_type": "execute_result"
    },
    {
     "data": {
      "image/png": "[encoded data removed]",
      "text/plain": [
       "<Figure size 1000x600 with 1 Axes>"
      ]
     },
     "metadata": {},
     "output_type": "display_data"
    }
   ],
   "source": [
    "plt.figure(figsize=(10,6))\n",
    "sns.lineplot(data=Ip, x='Year_Date', y='Stock_Impact_%', hue='Company', marker=\"o\")"
   ]
  },
  {
   "cell_type": "markdown",
   "id": "b17579b9",
   "metadata": {},
   "source": [
    "% tăng trưởng revenue theo năm của các công ty (câu 4)"
   ]
  },
  {
   "cell_type": "code",
   "execution_count": 105,
   "id": "803429ad-f2bf-4274-94fa-67449247516f",
   "metadata": {},
   "outputs": [],
   "source": [
    "data_openai =  df [df['Company'] == 'OpenAI']\n",
    "data_google = df [df['Company'] == 'Google']\n",
    "data_meta = df [df['Company'] == 'Meta']"
   ]
  },
  {
   "cell_type": "code",
   "execution_count": 109,
   "id": "e5e31feb-404a-49f9-83a0-4f6750fd9884",
   "metadata": {},
   "outputs": [
    {
     "data": {
      "text/plain": [
       "[<matplotlib.lines.Line2D at 0x160f1af4410>]"
      ]
     },
     "execution_count": 109,
     "metadata": {},
     "output_type": "execute_result"
    },
    {
     "data": {
      "image/png": "[encoded data removed]",
      "text/plain": [
       "<Figure size 640x480 with 1 Axes>"
      ]
     },
     "metadata": {},
     "output_type": "display_data"
    }
   ],
   "source": [
    "plt.plot( data_google['Date'], data_google['AI_Revenue_Growth_%'], color = 'c')"
   ]
  },
  {
   "cell_type": "code",
   "execution_count": 110,
   "id": "61b6e046-8c61-4136-9f5c-7d15e4716439",
   "metadata": {},
   "outputs": [
    {
     "data": {
      "text/plain": [
       "[<matplotlib.lines.Line2D at 0x160f1907890>]"
      ]
     },
     "execution_count": 110,
     "metadata": {},
     "output_type": "execute_result"
    },
    {
     "data": {
      "image/png": "[encoded data removed]",
      "text/plain": [
       "<Figure size 640x480 with 1 Axes>"
      ]
     },
     "metadata": {},
     "output_type": "display_data"
    }
   ],
   "source": [
    "plt.plot( data_meta['Date'], data_meta['AI_Revenue_Growth_%'], color = 'black')"
   ]
  },
  {
   "cell_type": "code",
   "execution_count": 111,
   "id": "28faab08-9dfd-44cb-9fef-6948916d1732",
   "metadata": {},
   "outputs": [
    {
     "data": {
      "text/plain": [
       "[<matplotlib.lines.Line2D at 0x160f18aad50>]"
      ]
     },
     "execution_count": 111,
     "metadata": {},
     "output_type": "execute_result"
    },
    {
     "data": {
      "image/png": "[encoded data removed]",
      "text/plain": [
       "<Figure size 640x480 with 1 Axes>"
      ]
     },
     "metadata": {},
     "output_type": "display_data"
    }
   ],
   "source": [
    "plt.plot( data_openai['Date'], data_openai['AI_Revenue_Growth_%'], color = 'black')"
   ]
  },
  {
   "cell_type": "markdown",
   "id": "16475490",
   "metadata": {},
   "source": [
    "Lợi nhuận công ty mỗi năm (Câu 5)"
   ]
  },
  {
   "cell_type": "code",
   "execution_count": null,
   "id": "f7f52e88-855d-4664-ad01-6cd75545a26a",
   "metadata": {},
   "outputs": [
    {
     "data": {
      "text/html": [
       "<div>\n",
       "<style scoped>\n",
       "    .dataframe tbody tr th:only-of-type {\n",
       "        vertical-align: middle;\n",
       "    }\n",
       "\n",
       "    .dataframe tbody tr th {\n",
       "        vertical-align: top;\n",
       "    }\n",
       "\n",
       "    .dataframe thead th {\n",
       "        text-align: right;\n",
       "    }\n",
       "</style>\n",
       "<table border=\"1\" class=\"dataframe\">\n",
       "  <thead>\n",
       "    <tr style=\"text-align: right;\">\n",
       "      <th></th>\n",
       "      <th>Date</th>\n",
       "      <th>Company</th>\n",
       "      <th>R&amp;D_Spending_USD_Mn</th>\n",
       "      <th>AI_Revenue_USD_Mn</th>\n",
       "      <th>AI_Revenue_Growth_%</th>\n",
       "      <th>Event</th>\n",
       "      <th>Stock_Impact_%</th>\n",
       "      <th>Year_Date</th>\n",
       "    </tr>\n",
       "  </thead>\n",
       "  <tbody>\n",
       "    <tr>\n",
       "      <th>0</th>\n",
       "      <td>2015-01-01</td>\n",
       "      <td>OpenAI</td>\n",
       "      <td>5.92</td>\n",
       "      <td>0.63</td>\n",
       "      <td>-36.82</td>\n",
       "      <td>NaN</td>\n",
       "      <td>-0.36</td>\n",
       "      <td>2015</td>\n",
       "    </tr>\n",
       "    <tr>\n",
       "      <th>1</th>\n",
       "      <td>2015-01-02</td>\n",
       "      <td>OpenAI</td>\n",
       "      <td>5.41</td>\n",
       "      <td>1.81</td>\n",
       "      <td>80.59</td>\n",
       "      <td>NaN</td>\n",
       "      <td>0.41</td>\n",
       "      <td>2015</td>\n",
       "    </tr>\n",
       "    <tr>\n",
       "      <th>2</th>\n",
       "      <td>2015-01-03</td>\n",
       "      <td>OpenAI</td>\n",
       "      <td>4.50</td>\n",
       "      <td>0.61</td>\n",
       "      <td>-38.88</td>\n",
       "      <td>NaN</td>\n",
       "      <td>0.23</td>\n",
       "      <td>2015</td>\n",
       "    </tr>\n",
       "    <tr>\n",
       "      <th>3</th>\n",
       "      <td>2015-01-04</td>\n",
       "      <td>OpenAI</td>\n",
       "      <td>5.45</td>\n",
       "      <td>0.95</td>\n",
       "      <td>-5.34</td>\n",
       "      <td>NaN</td>\n",
       "      <td>0.93</td>\n",
       "      <td>2015</td>\n",
       "    </tr>\n",
       "    <tr>\n",
       "      <th>4</th>\n",
       "      <td>2015-01-05</td>\n",
       "      <td>OpenAI</td>\n",
       "      <td>3.40</td>\n",
       "      <td>1.48</td>\n",
       "      <td>48.45</td>\n",
       "      <td>NaN</td>\n",
       "      <td>-0.09</td>\n",
       "      <td>2015</td>\n",
       "    </tr>\n",
       "    <tr>\n",
       "      <th>...</th>\n",
       "      <td>...</td>\n",
       "      <td>...</td>\n",
       "      <td>...</td>\n",
       "      <td>...</td>\n",
       "      <td>...</td>\n",
       "      <td>...</td>\n",
       "      <td>...</td>\n",
       "      <td>...</td>\n",
       "    </tr>\n",
       "    <tr>\n",
       "      <th>10954</th>\n",
       "      <td>2024-12-27</td>\n",
       "      <td>Meta</td>\n",
       "      <td>100.19</td>\n",
       "      <td>103.54</td>\n",
       "      <td>417.68</td>\n",
       "      <td>NaN</td>\n",
       "      <td>-0.66</td>\n",
       "      <td>2024</td>\n",
       "    </tr>\n",
       "    <tr>\n",
       "      <th>10955</th>\n",
       "      <td>2024-12-28</td>\n",
       "      <td>Meta</td>\n",
       "      <td>99.12</td>\n",
       "      <td>102.37</td>\n",
       "      <td>411.86</td>\n",
       "      <td>NaN</td>\n",
       "      <td>-0.57</td>\n",
       "      <td>2024</td>\n",
       "    </tr>\n",
       "    <tr>\n",
       "      <th>10956</th>\n",
       "      <td>2024-12-29</td>\n",
       "      <td>Meta</td>\n",
       "      <td>98.95</td>\n",
       "      <td>103.11</td>\n",
       "      <td>415.54</td>\n",
       "      <td>NaN</td>\n",
       "      <td>-0.52</td>\n",
       "      <td>2024</td>\n",
       "    </tr>\n",
       "    <tr>\n",
       "      <th>10957</th>\n",
       "      <td>2024-12-30</td>\n",
       "      <td>Meta</td>\n",
       "      <td>100.74</td>\n",
       "      <td>103.21</td>\n",
       "      <td>416.03</td>\n",
       "      <td>NaN</td>\n",
       "      <td>0.22</td>\n",
       "      <td>2024</td>\n",
       "    </tr>\n",
       "    <tr>\n",
       "      <th>10958</th>\n",
       "      <td>2024-12-31</td>\n",
       "      <td>Meta</td>\n",
       "      <td>100.08</td>\n",
       "      <td>103.41</td>\n",
       "      <td>417.04</td>\n",
       "      <td>NaN</td>\n",
       "      <td>-0.16</td>\n",
       "      <td>2024</td>\n",
       "    </tr>\n",
       "  </tbody>\n",
       "</table>\n",
       "<p>10959 rows × 8 columns</p>\n",
       "</div>"
      ],
      "text/plain": [
       "            Date Company  R&D_Spending_USD_Mn  AI_Revenue_USD_Mn  \\\n",
       "0     2015-01-01  OpenAI                 5.92               0.63   \n",
       "1     2015-01-02  OpenAI                 5.41               1.81   \n",
       "2     2015-01-03  OpenAI                 4.50               0.61   \n",
       "3     2015-01-04  OpenAI                 5.45               0.95   \n",
       "4     2015-01-05  OpenAI                 3.40               1.48   \n",
       "...          ...     ...                  ...                ...   \n",
       "10954 2024-12-27    Meta               100.19             103.54   \n",
       "10955 2024-12-28    Meta                99.12             102.37   \n",
       "10956 2024-12-29    Meta                98.95             103.11   \n",
       "10957 2024-12-30    Meta               100.74             103.21   \n",
       "10958 2024-12-31    Meta               100.08             103.41   \n",
       "\n",
       "       AI_Revenue_Growth_% Event  Stock_Impact_%  Year_Date  \n",
       "0                   -36.82   NaN           -0.36       2015  \n",
       "1                    80.59   NaN            0.41       2015  \n",
       "2                   -38.88   NaN            0.23       2015  \n",
       "3                    -5.34   NaN            0.93       2015  \n",
       "4                    48.45   NaN           -0.09       2015  \n",
       "...                    ...   ...             ...        ...  \n",
       "10954               417.68   NaN           -0.66       2024  \n",
       "10955               411.86   NaN           -0.57       2024  \n",
       "10956               415.54   NaN           -0.52       2024  \n",
       "10957               416.03   NaN            0.22       2024  \n",
       "10958               417.04   NaN           -0.16       2024  \n",
       "\n",
       "[10959 rows x 8 columns]"
      ]
     },
     "execution_count": 112,
     "metadata": {},
     "output_type": "execute_result"
    }
   ],
   "source": [
    "\n",
    "df"
   ]
  },
  {
   "cell_type": "code",
   "execution_count": 29,
   "id": "8b8b9836-9f59-4c7d-8adf-2ebc85d4b7e2",
   "metadata": {},
   "outputs": [
    {
     "data": {
      "text/html": [
       "<div>\n",
       "<style scoped>\n",
       "    .dataframe tbody tr th:only-of-type {\n",
       "        vertical-align: middle;\n",
       "    }\n",
       "\n",
       "    .dataframe tbody tr th {\n",
       "        vertical-align: top;\n",
       "    }\n",
       "\n",
       "    .dataframe thead th {\n",
       "        text-align: right;\n",
       "    }\n",
       "</style>\n",
       "<table border=\"1\" class=\"dataframe\">\n",
       "  <thead>\n",
       "    <tr style=\"text-align: right;\">\n",
       "      <th></th>\n",
       "      <th>Company</th>\n",
       "      <th>Year_Date</th>\n",
       "      <th>AI_Revenue_USD_Mn</th>\n",
       "    </tr>\n",
       "  </thead>\n",
       "  <tbody>\n",
       "    <tr>\n",
       "      <th>0</th>\n",
       "      <td>Google</td>\n",
       "      <td>2015</td>\n",
       "      <td>10962.63</td>\n",
       "    </tr>\n",
       "    <tr>\n",
       "      <th>1</th>\n",
       "      <td>Google</td>\n",
       "      <td>2016</td>\n",
       "      <td>13156.27</td>\n",
       "    </tr>\n",
       "    <tr>\n",
       "      <th>2</th>\n",
       "      <td>Google</td>\n",
       "      <td>2017</td>\n",
       "      <td>15756.37</td>\n",
       "    </tr>\n",
       "    <tr>\n",
       "      <th>3</th>\n",
       "      <td>Google</td>\n",
       "      <td>2018</td>\n",
       "      <td>18924.12</td>\n",
       "    </tr>\n",
       "    <tr>\n",
       "      <th>4</th>\n",
       "      <td>Google</td>\n",
       "      <td>2019</td>\n",
       "      <td>22701.64</td>\n",
       "    </tr>\n",
       "    <tr>\n",
       "      <th>5</th>\n",
       "      <td>Google</td>\n",
       "      <td>2020</td>\n",
       "      <td>27328.95</td>\n",
       "    </tr>\n",
       "    <tr>\n",
       "      <th>6</th>\n",
       "      <td>Google</td>\n",
       "      <td>2021</td>\n",
       "      <td>32705.27</td>\n",
       "    </tr>\n",
       "    <tr>\n",
       "      <th>7</th>\n",
       "      <td>Google</td>\n",
       "      <td>2022</td>\n",
       "      <td>39228.04</td>\n",
       "    </tr>\n",
       "    <tr>\n",
       "      <th>8</th>\n",
       "      <td>Google</td>\n",
       "      <td>2023</td>\n",
       "      <td>47088.80</td>\n",
       "    </tr>\n",
       "    <tr>\n",
       "      <th>9</th>\n",
       "      <td>Google</td>\n",
       "      <td>2024</td>\n",
       "      <td>56646.29</td>\n",
       "    </tr>\n",
       "    <tr>\n",
       "      <th>10</th>\n",
       "      <td>Meta</td>\n",
       "      <td>2015</td>\n",
       "      <td>7304.13</td>\n",
       "    </tr>\n",
       "    <tr>\n",
       "      <th>11</th>\n",
       "      <td>Meta</td>\n",
       "      <td>2016</td>\n",
       "      <td>8768.17</td>\n",
       "    </tr>\n",
       "    <tr>\n",
       "      <th>12</th>\n",
       "      <td>Meta</td>\n",
       "      <td>2017</td>\n",
       "      <td>10501.44</td>\n",
       "    </tr>\n",
       "    <tr>\n",
       "      <th>13</th>\n",
       "      <td>Meta</td>\n",
       "      <td>2018</td>\n",
       "      <td>12596.20</td>\n",
       "    </tr>\n",
       "    <tr>\n",
       "      <th>14</th>\n",
       "      <td>Meta</td>\n",
       "      <td>2019</td>\n",
       "      <td>15127.71</td>\n",
       "    </tr>\n",
       "    <tr>\n",
       "      <th>15</th>\n",
       "      <td>Meta</td>\n",
       "      <td>2020</td>\n",
       "      <td>18214.22</td>\n",
       "    </tr>\n",
       "    <tr>\n",
       "      <th>16</th>\n",
       "      <td>Meta</td>\n",
       "      <td>2021</td>\n",
       "      <td>21794.18</td>\n",
       "    </tr>\n",
       "    <tr>\n",
       "      <th>17</th>\n",
       "      <td>Meta</td>\n",
       "      <td>2022</td>\n",
       "      <td>26151.89</td>\n",
       "    </tr>\n",
       "    <tr>\n",
       "      <th>18</th>\n",
       "      <td>Meta</td>\n",
       "      <td>2023</td>\n",
       "      <td>31385.74</td>\n",
       "    </tr>\n",
       "    <tr>\n",
       "      <th>19</th>\n",
       "      <td>Meta</td>\n",
       "      <td>2024</td>\n",
       "      <td>37778.14</td>\n",
       "    </tr>\n",
       "    <tr>\n",
       "      <th>20</th>\n",
       "      <td>OpenAI</td>\n",
       "      <td>2015</td>\n",
       "      <td>356.45</td>\n",
       "    </tr>\n",
       "    <tr>\n",
       "      <th>21</th>\n",
       "      <td>OpenAI</td>\n",
       "      <td>2016</td>\n",
       "      <td>436.76</td>\n",
       "    </tr>\n",
       "    <tr>\n",
       "      <th>22</th>\n",
       "      <td>OpenAI</td>\n",
       "      <td>2017</td>\n",
       "      <td>518.99</td>\n",
       "    </tr>\n",
       "    <tr>\n",
       "      <th>23</th>\n",
       "      <td>OpenAI</td>\n",
       "      <td>2018</td>\n",
       "      <td>644.12</td>\n",
       "    </tr>\n",
       "    <tr>\n",
       "      <th>24</th>\n",
       "      <td>OpenAI</td>\n",
       "      <td>2019</td>\n",
       "      <td>750.97</td>\n",
       "    </tr>\n",
       "    <tr>\n",
       "      <th>25</th>\n",
       "      <td>OpenAI</td>\n",
       "      <td>2020</td>\n",
       "      <td>913.02</td>\n",
       "    </tr>\n",
       "    <tr>\n",
       "      <th>26</th>\n",
       "      <td>OpenAI</td>\n",
       "      <td>2021</td>\n",
       "      <td>1091.69</td>\n",
       "    </tr>\n",
       "    <tr>\n",
       "      <th>27</th>\n",
       "      <td>OpenAI</td>\n",
       "      <td>2022</td>\n",
       "      <td>1294.31</td>\n",
       "    </tr>\n",
       "    <tr>\n",
       "      <th>28</th>\n",
       "      <td>OpenAI</td>\n",
       "      <td>2023</td>\n",
       "      <td>1567.10</td>\n",
       "    </tr>\n",
       "    <tr>\n",
       "      <th>29</th>\n",
       "      <td>OpenAI</td>\n",
       "      <td>2024</td>\n",
       "      <td>1889.48</td>\n",
       "    </tr>\n",
       "  </tbody>\n",
       "</table>\n",
       "</div>"
      ],
      "text/plain": [
       "   Company  Year_Date  AI_Revenue_USD_Mn\n",
       "0   Google       2015           10962.63\n",
       "1   Google       2016           13156.27\n",
       "2   Google       2017           15756.37\n",
       "3   Google       2018           18924.12\n",
       "4   Google       2019           22701.64\n",
       "5   Google       2020           27328.95\n",
       "6   Google       2021           32705.27\n",
       "7   Google       2022           39228.04\n",
       "8   Google       2023           47088.80\n",
       "9   Google       2024           56646.29\n",
       "10    Meta       2015            7304.13\n",
       "11    Meta       2016            8768.17\n",
       "12    Meta       2017           10501.44\n",
       "13    Meta       2018           12596.20\n",
       "14    Meta       2019           15127.71\n",
       "15    Meta       2020           18214.22\n",
       "16    Meta       2021           21794.18\n",
       "17    Meta       2022           26151.89\n",
       "18    Meta       2023           31385.74\n",
       "19    Meta       2024           37778.14\n",
       "20  OpenAI       2015             356.45\n",
       "21  OpenAI       2016             436.76\n",
       "22  OpenAI       2017             518.99\n",
       "23  OpenAI       2018             644.12\n",
       "24  OpenAI       2019             750.97\n",
       "25  OpenAI       2020             913.02\n",
       "26  OpenAI       2021            1091.69\n",
       "27  OpenAI       2022            1294.31\n",
       "28  OpenAI       2023            1567.10\n",
       "29  OpenAI       2024            1889.48"
      ]
     },
     "execution_count": 29,
     "metadata": {},
     "output_type": "execute_result"
    }
   ],
   "source": [
    "spend = df.groupby(['Company','Year_Date'])['AI_Revenue_USD_Mn'].sum().reset_index()\n",
    "spend"
   ]
  },
  {
   "cell_type": "code",
   "execution_count": 30,
   "id": "b4ec7dd4-2d83-4aa4-ab38-9b762feb6ef5",
   "metadata": {},
   "outputs": [
    {
     "data": {
      "text/html": [
       "<div>\n",
       "<style scoped>\n",
       "    .dataframe tbody tr th:only-of-type {\n",
       "        vertical-align: middle;\n",
       "    }\n",
       "\n",
       "    .dataframe tbody tr th {\n",
       "        vertical-align: top;\n",
       "    }\n",
       "\n",
       "    .dataframe thead th {\n",
       "        text-align: right;\n",
       "    }\n",
       "</style>\n",
       "<table border=\"1\" class=\"dataframe\">\n",
       "  <thead>\n",
       "    <tr style=\"text-align: right;\">\n",
       "      <th></th>\n",
       "      <th>Company</th>\n",
       "      <th>Year_Date</th>\n",
       "      <th>AI_Revenue_USD_Mn</th>\n",
       "    </tr>\n",
       "  </thead>\n",
       "  <tbody>\n",
       "    <tr>\n",
       "      <th>0</th>\n",
       "      <td>Google</td>\n",
       "      <td>2015</td>\n",
       "      <td>10962.63</td>\n",
       "    </tr>\n",
       "    <tr>\n",
       "      <th>1</th>\n",
       "      <td>Google</td>\n",
       "      <td>2016</td>\n",
       "      <td>13156.27</td>\n",
       "    </tr>\n",
       "    <tr>\n",
       "      <th>2</th>\n",
       "      <td>Google</td>\n",
       "      <td>2017</td>\n",
       "      <td>15756.37</td>\n",
       "    </tr>\n",
       "    <tr>\n",
       "      <th>3</th>\n",
       "      <td>Google</td>\n",
       "      <td>2018</td>\n",
       "      <td>18924.12</td>\n",
       "    </tr>\n",
       "    <tr>\n",
       "      <th>4</th>\n",
       "      <td>Google</td>\n",
       "      <td>2019</td>\n",
       "      <td>22701.64</td>\n",
       "    </tr>\n",
       "    <tr>\n",
       "      <th>5</th>\n",
       "      <td>Google</td>\n",
       "      <td>2020</td>\n",
       "      <td>27328.95</td>\n",
       "    </tr>\n",
       "    <tr>\n",
       "      <th>6</th>\n",
       "      <td>Google</td>\n",
       "      <td>2021</td>\n",
       "      <td>32705.27</td>\n",
       "    </tr>\n",
       "    <tr>\n",
       "      <th>7</th>\n",
       "      <td>Google</td>\n",
       "      <td>2022</td>\n",
       "      <td>39228.04</td>\n",
       "    </tr>\n",
       "    <tr>\n",
       "      <th>8</th>\n",
       "      <td>Google</td>\n",
       "      <td>2023</td>\n",
       "      <td>47088.80</td>\n",
       "    </tr>\n",
       "    <tr>\n",
       "      <th>9</th>\n",
       "      <td>Google</td>\n",
       "      <td>2024</td>\n",
       "      <td>56646.29</td>\n",
       "    </tr>\n",
       "  </tbody>\n",
       "</table>\n",
       "</div>"
      ],
      "text/plain": [
       "  Company  Year_Date  AI_Revenue_USD_Mn\n",
       "0  Google       2015           10962.63\n",
       "1  Google       2016           13156.27\n",
       "2  Google       2017           15756.37\n",
       "3  Google       2018           18924.12\n",
       "4  Google       2019           22701.64\n",
       "5  Google       2020           27328.95\n",
       "6  Google       2021           32705.27\n",
       "7  Google       2022           39228.04\n",
       "8  Google       2023           47088.80\n",
       "9  Google       2024           56646.29"
      ]
     },
     "execution_count": 30,
     "metadata": {},
     "output_type": "execute_result"
    }
   ],
   "source": [
    "rev_google = spend[spend['Company'] == \"Google\"]\n",
    "rev_google"
   ]
  },
  {
   "cell_type": "code",
   "execution_count": 31,
   "id": "54e8f286-13c1-4cee-843c-af401b04c960",
   "metadata": {},
   "outputs": [
    {
     "data": {
      "text/html": [
       "<div>\n",
       "<style scoped>\n",
       "    .dataframe tbody tr th:only-of-type {\n",
       "        vertical-align: middle;\n",
       "    }\n",
       "\n",
       "    .dataframe tbody tr th {\n",
       "        vertical-align: top;\n",
       "    }\n",
       "\n",
       "    .dataframe thead th {\n",
       "        text-align: right;\n",
       "    }\n",
       "</style>\n",
       "<table border=\"1\" class=\"dataframe\">\n",
       "  <thead>\n",
       "    <tr style=\"text-align: right;\">\n",
       "      <th></th>\n",
       "      <th>Company</th>\n",
       "      <th>Year_Date</th>\n",
       "      <th>AI_Revenue_USD_Mn</th>\n",
       "    </tr>\n",
       "  </thead>\n",
       "  <tbody>\n",
       "    <tr>\n",
       "      <th>10</th>\n",
       "      <td>Meta</td>\n",
       "      <td>2015</td>\n",
       "      <td>7304.13</td>\n",
       "    </tr>\n",
       "    <tr>\n",
       "      <th>11</th>\n",
       "      <td>Meta</td>\n",
       "      <td>2016</td>\n",
       "      <td>8768.17</td>\n",
       "    </tr>\n",
       "    <tr>\n",
       "      <th>12</th>\n",
       "      <td>Meta</td>\n",
       "      <td>2017</td>\n",
       "      <td>10501.44</td>\n",
       "    </tr>\n",
       "    <tr>\n",
       "      <th>13</th>\n",
       "      <td>Meta</td>\n",
       "      <td>2018</td>\n",
       "      <td>12596.20</td>\n",
       "    </tr>\n",
       "    <tr>\n",
       "      <th>14</th>\n",
       "      <td>Meta</td>\n",
       "      <td>2019</td>\n",
       "      <td>15127.71</td>\n",
       "    </tr>\n",
       "    <tr>\n",
       "      <th>15</th>\n",
       "      <td>Meta</td>\n",
       "      <td>2020</td>\n",
       "      <td>18214.22</td>\n",
       "    </tr>\n",
       "    <tr>\n",
       "      <th>16</th>\n",
       "      <td>Meta</td>\n",
       "      <td>2021</td>\n",
       "      <td>21794.18</td>\n",
       "    </tr>\n",
       "    <tr>\n",
       "      <th>17</th>\n",
       "      <td>Meta</td>\n",
       "      <td>2022</td>\n",
       "      <td>26151.89</td>\n",
       "    </tr>\n",
       "    <tr>\n",
       "      <th>18</th>\n",
       "      <td>Meta</td>\n",
       "      <td>2023</td>\n",
       "      <td>31385.74</td>\n",
       "    </tr>\n",
       "    <tr>\n",
       "      <th>19</th>\n",
       "      <td>Meta</td>\n",
       "      <td>2024</td>\n",
       "      <td>37778.14</td>\n",
       "    </tr>\n",
       "  </tbody>\n",
       "</table>\n",
       "</div>"
      ],
      "text/plain": [
       "   Company  Year_Date  AI_Revenue_USD_Mn\n",
       "10    Meta       2015            7304.13\n",
       "11    Meta       2016            8768.17\n",
       "12    Meta       2017           10501.44\n",
       "13    Meta       2018           12596.20\n",
       "14    Meta       2019           15127.71\n",
       "15    Meta       2020           18214.22\n",
       "16    Meta       2021           21794.18\n",
       "17    Meta       2022           26151.89\n",
       "18    Meta       2023           31385.74\n",
       "19    Meta       2024           37778.14"
      ]
     },
     "execution_count": 31,
     "metadata": {},
     "output_type": "execute_result"
    }
   ],
   "source": [
    "rev_Meta = spend[spend['Company'] == \"Meta\"]\n",
    "rev_Meta"
   ]
  },
  {
   "cell_type": "code",
   "execution_count": 33,
   "id": "97a7ffae",
   "metadata": {},
   "outputs": [
    {
     "data": {
      "text/html": [
       "<div>\n",
       "<style scoped>\n",
       "    .dataframe tbody tr th:only-of-type {\n",
       "        vertical-align: middle;\n",
       "    }\n",
       "\n",
       "    .dataframe tbody tr th {\n",
       "        vertical-align: top;\n",
       "    }\n",
       "\n",
       "    .dataframe thead th {\n",
       "        text-align: right;\n",
       "    }\n",
       "</style>\n",
       "<table border=\"1\" class=\"dataframe\">\n",
       "  <thead>\n",
       "    <tr style=\"text-align: right;\">\n",
       "      <th></th>\n",
       "      <th>Company</th>\n",
       "      <th>Year_Date</th>\n",
       "      <th>AI_Revenue_USD_Mn</th>\n",
       "    </tr>\n",
       "  </thead>\n",
       "  <tbody>\n",
       "    <tr>\n",
       "      <th>20</th>\n",
       "      <td>OpenAI</td>\n",
       "      <td>2015</td>\n",
       "      <td>356.45</td>\n",
       "    </tr>\n",
       "    <tr>\n",
       "      <th>21</th>\n",
       "      <td>OpenAI</td>\n",
       "      <td>2016</td>\n",
       "      <td>436.76</td>\n",
       "    </tr>\n",
       "    <tr>\n",
       "      <th>22</th>\n",
       "      <td>OpenAI</td>\n",
       "      <td>2017</td>\n",
       "      <td>518.99</td>\n",
       "    </tr>\n",
       "    <tr>\n",
       "      <th>23</th>\n",
       "      <td>OpenAI</td>\n",
       "      <td>2018</td>\n",
       "      <td>644.12</td>\n",
       "    </tr>\n",
       "    <tr>\n",
       "      <th>24</th>\n",
       "      <td>OpenAI</td>\n",
       "      <td>2019</td>\n",
       "      <td>750.97</td>\n",
       "    </tr>\n",
       "    <tr>\n",
       "      <th>25</th>\n",
       "      <td>OpenAI</td>\n",
       "      <td>2020</td>\n",
       "      <td>913.02</td>\n",
       "    </tr>\n",
       "    <tr>\n",
       "      <th>26</th>\n",
       "      <td>OpenAI</td>\n",
       "      <td>2021</td>\n",
       "      <td>1091.69</td>\n",
       "    </tr>\n",
       "    <tr>\n",
       "      <th>27</th>\n",
       "      <td>OpenAI</td>\n",
       "      <td>2022</td>\n",
       "      <td>1294.31</td>\n",
       "    </tr>\n",
       "    <tr>\n",
       "      <th>28</th>\n",
       "      <td>OpenAI</td>\n",
       "      <td>2023</td>\n",
       "      <td>1567.10</td>\n",
       "    </tr>\n",
       "    <tr>\n",
       "      <th>29</th>\n",
       "      <td>OpenAI</td>\n",
       "      <td>2024</td>\n",
       "      <td>1889.48</td>\n",
       "    </tr>\n",
       "  </tbody>\n",
       "</table>\n",
       "</div>"
      ],
      "text/plain": [
       "   Company  Year_Date  AI_Revenue_USD_Mn\n",
       "20  OpenAI       2015             356.45\n",
       "21  OpenAI       2016             436.76\n",
       "22  OpenAI       2017             518.99\n",
       "23  OpenAI       2018             644.12\n",
       "24  OpenAI       2019             750.97\n",
       "25  OpenAI       2020             913.02\n",
       "26  OpenAI       2021            1091.69\n",
       "27  OpenAI       2022            1294.31\n",
       "28  OpenAI       2023            1567.10\n",
       "29  OpenAI       2024            1889.48"
      ]
     },
     "execution_count": 33,
     "metadata": {},
     "output_type": "execute_result"
    }
   ],
   "source": [
    "rev_OpenAI = spend[spend['Company'] == \"OpenAI\"]\n",
    "rev_OpenAI"
   ]
  },
  {
   "cell_type": "code",
   "execution_count": 119,
   "id": "f2ab957f-461f-4222-a1ca-40bb799b55db",
   "metadata": {},
   "outputs": [
    {
     "data": {
      "text/plain": [
       "Text(0, 0.5, 'Amount in USD_$Mn')"
      ]
     },
     "execution_count": 119,
     "metadata": {},
     "output_type": "execute_result"
    },
    {
     "data": {
      "image/png": "[encoded data removed]",
      "text/plain": [
       "<Figure size 640x480 with 1 Axes>"
      ]
     },
     "metadata": {},
     "output_type": "display_data"
    }
   ],
   "source": [
    "plt.bar(rev_google['Year_Date'], rev_google['AI_Revenue_USD_Mn'])\n",
    "plt.title( \"Revenue of Google\")\n",
    "plt.xlabel(\"Year\")\n",
    "plt.ylabel(\"Amount in USD_$Mn\")"
   ]
  },
  {
   "cell_type": "code",
   "execution_count": 32,
   "id": "25982c3a-dca1-43bf-8bb8-adcdd9d38609",
   "metadata": {},
   "outputs": [
    {
     "data": {
      "text/plain": [
       "Text(0, 0.5, 'Amount in USD_$Mn')"
      ]
     },
     "execution_count": 32,
     "metadata": {},
     "output_type": "execute_result"
    },
    {
     "data": {
      "image/png": "[encoded data removed]",
      "text/plain": [
       "<Figure size 640x480 with 1 Axes>"
      ]
     },
     "metadata": {},
     "output_type": "display_data"
    }
   ],
   "source": [
    "plt.bar(rev_Meta['Year_Date'], rev_Meta['AI_Revenue_USD_Mn'])\n",
    "plt.title( \"Revenue of Meta\")\n",
    "plt.xlabel(\"Year\")\n",
    "plt.ylabel(\"Amount in USD_$Mn\")"
   ]
  },
  {
   "cell_type": "code",
   "execution_count": 34,
   "id": "65f8573e",
   "metadata": {},
   "outputs": [
    {
     "data": {
      "text/plain": [
       "Text(0, 0.5, 'Amount in USD_$Mn')"
      ]
     },
     "execution_count": 34,
     "metadata": {},
     "output_type": "execute_result"
    },
    {
     "data": {
      "image/png": "[encoded data removed]",
      "text/plain": [
       "<Figure size 640x480 with 1 Axes>"
      ]
     },
     "metadata": {},
     "output_type": "display_data"
    }
   ],
   "source": [
    "plt.bar(rev_OpenAI['Year_Date'],rev_OpenAI['AI_Revenue_USD_Mn'])\n",
    "plt.title( \"Revenue of OpenAI\")\n",
    "plt.xlabel(\"Year\")\n",
    "plt.ylabel(\"Amount in USD_$Mn\")"
   ]
  },
  {
   "cell_type": "code",
   "execution_count": 36,
   "id": "604e644e",
   "metadata": {},
   "outputs": [
    {
     "data": {
      "text/plain": [
       "Text(0, 0.5, 'Revenue USD_Mn')"
      ]
     },
     "execution_count": 36,
     "metadata": {},
     "output_type": "execute_result"
    },
    {
     "data": {
      "image/png": "[encoded data removed]",
      "text/plain": [
       "<Figure size 640x480 with 1 Axes>"
      ]
     },
     "metadata": {},
     "output_type": "display_data"
    }
   ],
   "source": [
    "plt.Figure(figsize=(10,4))\n",
    "sns.barplot(x=spend['Year_Date'],y=spend['AI_Revenue_USD_Mn'],hue=spend['Company'])\n",
    "plt.title(\"Company Revenue Comparison\")\n",
    "plt.ylabel(\"Revenue USD_Mn\")"
   ]
  },
  {
   "cell_type": "markdown",
   "id": "99cc598f",
   "metadata": {},
   "source": [
    "Highest change in the index (Câu hỏi 5)"
   ]
  },
  {
   "cell_type": "code",
   "execution_count": 119,
   "id": "24c7dfc3",
   "metadata": {},
   "outputs": [
    {
     "data": {
      "text/plain": [
       "Company\n",
       "Google     6.2\n",
       "Meta       7.4\n",
       "OpenAI    18.5\n",
       "Name: Stock_Impact_%, dtype: float64"
      ]
     },
     "execution_count": 119,
     "metadata": {},
     "output_type": "execute_result"
    }
   ],
   "source": [
    "df.groupby('Company')['Stock_Impact_%'].max()\n"
   ]
  },
  {
   "cell_type": "code",
   "execution_count": 123,
   "id": "ba6100b2-656c-412b-98ea-ca3ab98e0d4f",
   "metadata": {},
   "outputs": [
    {
     "data": {
      "text/plain": [
       "Year_Date  Company\n",
       "2015       Google      4.96\n",
       "           Meta        4.80\n",
       "           OpenAI      3.92\n",
       "2016       Google      6.20\n",
       "           Meta        2.14\n",
       "           OpenAI      4.66\n",
       "2017       Google      4.42\n",
       "           Meta        4.21\n",
       "           OpenAI      4.63\n",
       "2018       Google      1.97\n",
       "           Meta        4.54\n",
       "           OpenAI      4.94\n",
       "2019       Google      3.20\n",
       "           Meta        1.86\n",
       "           OpenAI      4.20\n",
       "2020       Google      4.18\n",
       "           Meta        4.86\n",
       "           OpenAI      8.50\n",
       "2021       Google      4.10\n",
       "           Meta        4.80\n",
       "           OpenAI      7.20\n",
       "2022       Google      4.88\n",
       "           Meta        3.98\n",
       "           OpenAI     12.00\n",
       "2023       Google      5.80\n",
       "           Meta        6.80\n",
       "           OpenAI     15.20\n",
       "2024       Google      2.89\n",
       "           Meta        7.40\n",
       "           OpenAI     18.50\n",
       "Name: Stock_Impact_%, dtype: float64"
      ]
     },
     "execution_count": 123,
     "metadata": {},
     "output_type": "execute_result"
    }
   ],
   "source": [
    "stocks = df.groupby(['Year_Date', 'Company'])['Stock_Impact_%'].max()\n",
    "\n",
    "stocks"
   ]
  },
  {
   "cell_type": "code",
   "execution_count": 124,
   "id": "95a9f877-2439-4af6-a4d4-f6bd88844712",
   "metadata": {},
   "outputs": [
    {
     "data": {
      "text/plain": [
       "Text(0.5, 1.0, 'change in index')"
      ]
     },
     "execution_count": 124,
     "metadata": {},
     "output_type": "execute_result"
    },
    {
     "data": {
      "image/png": "[encoded data removed]",
      "text/plain": [
       "<Figure size 640x480 with 1 Axes>"
      ]
     },
     "metadata": {},
     "output_type": "display_data"
    }
   ],
   "source": [
    "stocks.plot(kind = 'barh', color = ['r', 'black', 'm'])\n",
    "\n",
    "plt.title(\"change in index\")"
   ]
  },
  {
   "cell_type": "markdown",
   "id": "1cf42c12",
   "metadata": {},
   "source": [
    "Event Impact Analysis - Sự ảnh hưởng bới các sự kiên (Câu 6)"
   ]
  },
  {
   "cell_type": "code",
   "execution_count": 70,
   "id": "040c30ae",
   "metadata": {},
   "outputs": [
    {
     "data": {
      "text/html": [
       "<div>\n",
       "<style scoped>\n",
       "    .dataframe tbody tr th:only-of-type {\n",
       "        vertical-align: middle;\n",
       "    }\n",
       "\n",
       "    .dataframe tbody tr th {\n",
       "        vertical-align: top;\n",
       "    }\n",
       "\n",
       "    .dataframe thead th {\n",
       "        text-align: right;\n",
       "    }\n",
       "</style>\n",
       "<table border=\"1\" class=\"dataframe\">\n",
       "  <thead>\n",
       "    <tr style=\"text-align: right;\">\n",
       "      <th></th>\n",
       "      <th>Date</th>\n",
       "      <th>Company</th>\n",
       "      <th>R&amp;D_Spending_USD_Mn</th>\n",
       "      <th>AI_Revenue_USD_Mn</th>\n",
       "      <th>AI_Revenue_Growth_%</th>\n",
       "      <th>Event</th>\n",
       "      <th>Stock_Impact_%</th>\n",
       "      <th>Year_Date</th>\n",
       "    </tr>\n",
       "  </thead>\n",
       "  <tbody>\n",
       "    <tr>\n",
       "      <th>0</th>\n",
       "      <td>2015-01-01</td>\n",
       "      <td>OpenAI</td>\n",
       "      <td>5.92</td>\n",
       "      <td>0.63</td>\n",
       "      <td>-36.82</td>\n",
       "      <td>NaN</td>\n",
       "      <td>-0.36</td>\n",
       "      <td>2015</td>\n",
       "    </tr>\n",
       "    <tr>\n",
       "      <th>1</th>\n",
       "      <td>2015-01-02</td>\n",
       "      <td>OpenAI</td>\n",
       "      <td>5.41</td>\n",
       "      <td>1.81</td>\n",
       "      <td>80.59</td>\n",
       "      <td>NaN</td>\n",
       "      <td>0.41</td>\n",
       "      <td>2015</td>\n",
       "    </tr>\n",
       "    <tr>\n",
       "      <th>2</th>\n",
       "      <td>2015-01-03</td>\n",
       "      <td>OpenAI</td>\n",
       "      <td>4.50</td>\n",
       "      <td>0.61</td>\n",
       "      <td>-38.88</td>\n",
       "      <td>NaN</td>\n",
       "      <td>0.23</td>\n",
       "      <td>2015</td>\n",
       "    </tr>\n",
       "    <tr>\n",
       "      <th>3</th>\n",
       "      <td>2015-01-04</td>\n",
       "      <td>OpenAI</td>\n",
       "      <td>5.45</td>\n",
       "      <td>0.95</td>\n",
       "      <td>-5.34</td>\n",
       "      <td>NaN</td>\n",
       "      <td>0.93</td>\n",
       "      <td>2015</td>\n",
       "    </tr>\n",
       "    <tr>\n",
       "      <th>4</th>\n",
       "      <td>2015-01-05</td>\n",
       "      <td>OpenAI</td>\n",
       "      <td>3.40</td>\n",
       "      <td>1.48</td>\n",
       "      <td>48.45</td>\n",
       "      <td>NaN</td>\n",
       "      <td>-0.09</td>\n",
       "      <td>2015</td>\n",
       "    </tr>\n",
       "  </tbody>\n",
       "</table>\n",
       "</div>"
      ],
      "text/plain": [
       "        Date Company  R&D_Spending_USD_Mn  AI_Revenue_USD_Mn  \\\n",
       "0 2015-01-01  OpenAI                 5.92               0.63   \n",
       "1 2015-01-02  OpenAI                 5.41               1.81   \n",
       "2 2015-01-03  OpenAI                 4.50               0.61   \n",
       "3 2015-01-04  OpenAI                 5.45               0.95   \n",
       "4 2015-01-05  OpenAI                 3.40               1.48   \n",
       "\n",
       "   AI_Revenue_Growth_% Event  Stock_Impact_%  Year_Date  \n",
       "0               -36.82   NaN           -0.36       2015  \n",
       "1                80.59   NaN            0.41       2015  \n",
       "2               -38.88   NaN            0.23       2015  \n",
       "3                -5.34   NaN            0.93       2015  \n",
       "4                48.45   NaN           -0.09       2015  "
      ]
     },
     "execution_count": 70,
     "metadata": {},
     "output_type": "execute_result"
    }
   ],
   "source": [
    "df.head()"
   ]
  },
  {
   "cell_type": "code",
   "execution_count": null,
   "id": "3f628e47",
   "metadata": {},
   "outputs": [
    {
     "data": {
      "text/plain": [
       "Event\n",
       "AI speech recognition release      37\n",
       "AI Ads Optimization upgrade        32\n",
       "AI partnership deal                32\n",
       "AI-powered search update           32\n",
       "AI Video Recommendation upgrade    29\n",
       "AI ethics policy update            27\n",
       "Cloud AI launch                    27\n",
       "GPT-1 release                       1\n",
       "GPT-2 release                       1\n",
       "GPT-3 release                       1\n",
       "Codex release                       1\n",
       "DALL·E 2 release                    1\n",
       "ChatGPT (GPT-3.5) launch            1\n",
       "GPT-4 release                       1\n",
       "GPT-5 release (predicted)           1\n",
       "TensorFlow open-source release      1\n",
       "AlphaGo beats Lee Sedol             1\n",
       "BERT for Search launch              1\n",
       "MUM Search Model launch             1\n",
       "Bard chatbot launch                 1\n",
       "Gemini AI release                   1\n",
       "LLaMA 1 release                     1\n",
       "LLaMA 2 release                     1\n",
       "LLaMA 3 release (predicted)         1\n",
       "Name: count, dtype: int64"
      ]
     },
     "execution_count": 73,
     "metadata": {},
     "output_type": "execute_result"
    }
   ],
   "source": [
    "df['Event'].value_counts()\n"
   ]
  },
  {
   "cell_type": "code",
   "execution_count": 104,
   "id": "256ba1be",
   "metadata": {},
   "outputs": [
    {
     "data": {
      "text/plain": [
       "Date        Event                        \n",
       "2015-01-06  AI-powered search update         1\n",
       "2015-01-20  Cloud AI launch                  1\n",
       "2015-02-17  Cloud AI launch                  1\n",
       "2015-03-12  Cloud AI launch                  1\n",
       "2015-03-19  AI ethics policy update          1\n",
       "                                            ..\n",
       "2024-10-30  AI-powered search update         1\n",
       "2024-10-31  AI speech recognition release    1\n",
       "2024-11-21  AI Ads Optimization upgrade      1\n",
       "2024-11-29  AI speech recognition release    1\n",
       "2024-12-04  AI speech recognition release    1\n",
       "Name: count, Length: 232, dtype: int64"
      ]
     },
     "execution_count": 104,
     "metadata": {},
     "output_type": "execute_result"
    }
   ],
   "source": [
    "d=df.groupby(['Date'])['Event'].value_counts()\n",
    "d\n"
   ]
  },
  {
   "cell_type": "code",
   "execution_count": null,
   "id": "1d4240a5",
   "metadata": {},
   "outputs": [],
   "source": [
    "#check bảng sau sự kiện 'ChatGPT (GPT-3.5) launch  '"
   ]
  },
  {
   "cell_type": "code",
   "execution_count": 113,
   "id": "73f74df6",
   "metadata": {},
   "outputs": [
    {
     "data": {
      "text/html": [
       "<div>\n",
       "<style scoped>\n",
       "    .dataframe tbody tr th:only-of-type {\n",
       "        vertical-align: middle;\n",
       "    }\n",
       "\n",
       "    .dataframe tbody tr th {\n",
       "        vertical-align: top;\n",
       "    }\n",
       "\n",
       "    .dataframe thead th {\n",
       "        text-align: right;\n",
       "    }\n",
       "</style>\n",
       "<table border=\"1\" class=\"dataframe\">\n",
       "  <thead>\n",
       "    <tr style=\"text-align: right;\">\n",
       "      <th></th>\n",
       "      <th>Date</th>\n",
       "      <th>Company</th>\n",
       "      <th>R&amp;D_Spending_USD_Mn</th>\n",
       "      <th>AI_Revenue_USD_Mn</th>\n",
       "      <th>AI_Revenue_Growth_%</th>\n",
       "      <th>Event</th>\n",
       "      <th>Stock_Impact_%</th>\n",
       "      <th>Year_Date</th>\n",
       "    </tr>\n",
       "  </thead>\n",
       "  <tbody>\n",
       "    <tr>\n",
       "      <th>2994</th>\n",
       "      <td>2023-03-14</td>\n",
       "      <td>OpenAI</td>\n",
       "      <td>7.78</td>\n",
       "      <td>4.05</td>\n",
       "      <td>304.57</td>\n",
       "      <td>GPT-4 release</td>\n",
       "      <td>15.2</td>\n",
       "      <td>2023</td>\n",
       "    </tr>\n",
       "  </tbody>\n",
       "</table>\n",
       "</div>"
      ],
      "text/plain": [
       "           Date Company  R&D_Spending_USD_Mn  AI_Revenue_USD_Mn  \\\n",
       "2994 2023-03-14  OpenAI                 7.78               4.05   \n",
       "\n",
       "      AI_Revenue_Growth_%          Event  Stock_Impact_%  Year_Date  \n",
       "2994               304.57  GPT-4 release            15.2       2023  "
      ]
     },
     "execution_count": 113,
     "metadata": {},
     "output_type": "execute_result"
    }
   ],
   "source": [
    "df[ df.Event == 'GPT-4 release']"
   ]
  },
  {
   "cell_type": "code",
   "execution_count": 114,
   "id": "f8a0ca07",
   "metadata": {},
   "outputs": [
    {
     "data": {
      "text/html": [
       "<div>\n",
       "<style scoped>\n",
       "    .dataframe tbody tr th:only-of-type {\n",
       "        vertical-align: middle;\n",
       "    }\n",
       "\n",
       "    .dataframe tbody tr th {\n",
       "        vertical-align: top;\n",
       "    }\n",
       "\n",
       "    .dataframe thead th {\n",
       "        text-align: right;\n",
       "    }\n",
       "</style>\n",
       "<table border=\"1\" class=\"dataframe\">\n",
       "  <thead>\n",
       "    <tr style=\"text-align: right;\">\n",
       "      <th></th>\n",
       "      <th>Date</th>\n",
       "      <th>Company</th>\n",
       "      <th>R&amp;D_Spending_USD_Mn</th>\n",
       "      <th>AI_Revenue_USD_Mn</th>\n",
       "      <th>AI_Revenue_Growth_%</th>\n",
       "      <th>Event</th>\n",
       "      <th>Stock_Impact_%</th>\n",
       "      <th>Year_Date</th>\n",
       "    </tr>\n",
       "  </thead>\n",
       "  <tbody>\n",
       "    <tr>\n",
       "      <th>3408</th>\n",
       "      <td>2024-05-01</td>\n",
       "      <td>OpenAI</td>\n",
       "      <td>10.91</td>\n",
       "      <td>5.34</td>\n",
       "      <td>434.27</td>\n",
       "      <td>GPT-5 release (predicted)</td>\n",
       "      <td>18.5</td>\n",
       "      <td>2024</td>\n",
       "    </tr>\n",
       "  </tbody>\n",
       "</table>\n",
       "</div>"
      ],
      "text/plain": [
       "           Date Company  R&D_Spending_USD_Mn  AI_Revenue_USD_Mn  \\\n",
       "3408 2024-05-01  OpenAI                10.91               5.34   \n",
       "\n",
       "      AI_Revenue_Growth_%                      Event  Stock_Impact_%  \\\n",
       "3408               434.27  GPT-5 release (predicted)            18.5   \n",
       "\n",
       "      Year_Date  \n",
       "3408       2024  "
      ]
     },
     "execution_count": 114,
     "metadata": {},
     "output_type": "execute_result"
    }
   ],
   "source": [
    "df[ df.Event == 'GPT-5 release (predicted)']"
   ]
  },
  {
   "cell_type": "code",
   "execution_count": null,
   "id": "96185735",
   "metadata": {},
   "outputs": [
    {
     "data": {
      "text/html": [
       "<div>\n",
       "<style scoped>\n",
       "    .dataframe tbody tr th:only-of-type {\n",
       "        vertical-align: middle;\n",
       "    }\n",
       "\n",
       "    .dataframe tbody tr th {\n",
       "        vertical-align: top;\n",
       "    }\n",
       "\n",
       "    .dataframe thead th {\n",
       "        text-align: right;\n",
       "    }\n",
       "</style>\n",
       "<table border=\"1\" class=\"dataframe\">\n",
       "  <thead>\n",
       "    <tr style=\"text-align: right;\">\n",
       "      <th></th>\n",
       "      <th>Date</th>\n",
       "      <th>Company</th>\n",
       "      <th>R&amp;D_Spending_USD_Mn</th>\n",
       "      <th>AI_Revenue_USD_Mn</th>\n",
       "      <th>AI_Revenue_Growth_%</th>\n",
       "      <th>Event</th>\n",
       "      <th>Stock_Impact_%</th>\n",
       "      <th>Year_Date</th>\n",
       "    </tr>\n",
       "  </thead>\n",
       "  <tbody>\n",
       "    <tr>\n",
       "      <th>2990</th>\n",
       "      <td>2023-03-10</td>\n",
       "      <td>OpenAI</td>\n",
       "      <td>9.55</td>\n",
       "      <td>4.83</td>\n",
       "      <td>383.49</td>\n",
       "      <td>NaN</td>\n",
       "      <td>-0.02</td>\n",
       "      <td>2023</td>\n",
       "    </tr>\n",
       "    <tr>\n",
       "      <th>2991</th>\n",
       "      <td>2023-03-11</td>\n",
       "      <td>OpenAI</td>\n",
       "      <td>8.34</td>\n",
       "      <td>3.95</td>\n",
       "      <td>294.67</td>\n",
       "      <td>NaN</td>\n",
       "      <td>0.19</td>\n",
       "      <td>2023</td>\n",
       "    </tr>\n",
       "    <tr>\n",
       "      <th>2992</th>\n",
       "      <td>2023-03-12</td>\n",
       "      <td>OpenAI</td>\n",
       "      <td>8.71</td>\n",
       "      <td>3.57</td>\n",
       "      <td>256.88</td>\n",
       "      <td>NaN</td>\n",
       "      <td>-0.87</td>\n",
       "      <td>2023</td>\n",
       "    </tr>\n",
       "    <tr>\n",
       "      <th>2993</th>\n",
       "      <td>2023-03-13</td>\n",
       "      <td>OpenAI</td>\n",
       "      <td>10.61</td>\n",
       "      <td>5.19</td>\n",
       "      <td>419.06</td>\n",
       "      <td>NaN</td>\n",
       "      <td>0.53</td>\n",
       "      <td>2023</td>\n",
       "    </tr>\n",
       "    <tr>\n",
       "      <th>2994</th>\n",
       "      <td>2023-03-14</td>\n",
       "      <td>OpenAI</td>\n",
       "      <td>7.78</td>\n",
       "      <td>4.05</td>\n",
       "      <td>304.57</td>\n",
       "      <td>GPT-4 release</td>\n",
       "      <td>15.20</td>\n",
       "      <td>2023</td>\n",
       "    </tr>\n",
       "    <tr>\n",
       "      <th>2995</th>\n",
       "      <td>2023-03-15</td>\n",
       "      <td>OpenAI</td>\n",
       "      <td>12.31</td>\n",
       "      <td>4.44</td>\n",
       "      <td>344.17</td>\n",
       "      <td>Cloud AI launch</td>\n",
       "      <td>3.84</td>\n",
       "      <td>2023</td>\n",
       "    </tr>\n",
       "    <tr>\n",
       "      <th>2996</th>\n",
       "      <td>2023-03-16</td>\n",
       "      <td>OpenAI</td>\n",
       "      <td>10.60</td>\n",
       "      <td>4.64</td>\n",
       "      <td>364.49</td>\n",
       "      <td>NaN</td>\n",
       "      <td>0.04</td>\n",
       "      <td>2023</td>\n",
       "    </tr>\n",
       "    <tr>\n",
       "      <th>2997</th>\n",
       "      <td>2023-03-17</td>\n",
       "      <td>OpenAI</td>\n",
       "      <td>10.77</td>\n",
       "      <td>4.78</td>\n",
       "      <td>377.90</td>\n",
       "      <td>NaN</td>\n",
       "      <td>0.69</td>\n",
       "      <td>2023</td>\n",
       "    </tr>\n",
       "    <tr>\n",
       "      <th>2998</th>\n",
       "      <td>2023-03-18</td>\n",
       "      <td>OpenAI</td>\n",
       "      <td>8.90</td>\n",
       "      <td>4.69</td>\n",
       "      <td>368.87</td>\n",
       "      <td>NaN</td>\n",
       "      <td>-0.53</td>\n",
       "      <td>2023</td>\n",
       "    </tr>\n",
       "    <tr>\n",
       "      <th>2999</th>\n",
       "      <td>2023-03-19</td>\n",
       "      <td>OpenAI</td>\n",
       "      <td>9.61</td>\n",
       "      <td>5.22</td>\n",
       "      <td>421.60</td>\n",
       "      <td>NaN</td>\n",
       "      <td>0.76</td>\n",
       "      <td>2023</td>\n",
       "    </tr>\n",
       "    <tr>\n",
       "      <th>3000</th>\n",
       "      <td>2023-03-20</td>\n",
       "      <td>OpenAI</td>\n",
       "      <td>9.02</td>\n",
       "      <td>4.51</td>\n",
       "      <td>350.81</td>\n",
       "      <td>NaN</td>\n",
       "      <td>0.93</td>\n",
       "      <td>2023</td>\n",
       "    </tr>\n",
       "    <tr>\n",
       "      <th>3001</th>\n",
       "      <td>2023-03-21</td>\n",
       "      <td>OpenAI</td>\n",
       "      <td>9.71</td>\n",
       "      <td>4.55</td>\n",
       "      <td>355.06</td>\n",
       "      <td>NaN</td>\n",
       "      <td>-0.92</td>\n",
       "      <td>2023</td>\n",
       "    </tr>\n",
       "    <tr>\n",
       "      <th>3002</th>\n",
       "      <td>2023-03-22</td>\n",
       "      <td>OpenAI</td>\n",
       "      <td>8.76</td>\n",
       "      <td>4.36</td>\n",
       "      <td>336.13</td>\n",
       "      <td>NaN</td>\n",
       "      <td>-0.59</td>\n",
       "      <td>2023</td>\n",
       "    </tr>\n",
       "    <tr>\n",
       "      <th>3003</th>\n",
       "      <td>2023-03-23</td>\n",
       "      <td>OpenAI</td>\n",
       "      <td>9.29</td>\n",
       "      <td>3.50</td>\n",
       "      <td>249.54</td>\n",
       "      <td>NaN</td>\n",
       "      <td>-0.61</td>\n",
       "      <td>2023</td>\n",
       "    </tr>\n",
       "    <tr>\n",
       "      <th>3004</th>\n",
       "      <td>2023-03-24</td>\n",
       "      <td>OpenAI</td>\n",
       "      <td>7.42</td>\n",
       "      <td>4.66</td>\n",
       "      <td>365.62</td>\n",
       "      <td>NaN</td>\n",
       "      <td>0.32</td>\n",
       "      <td>2023</td>\n",
       "    </tr>\n",
       "    <tr>\n",
       "      <th>3005</th>\n",
       "      <td>2023-03-25</td>\n",
       "      <td>OpenAI</td>\n",
       "      <td>10.61</td>\n",
       "      <td>4.39</td>\n",
       "      <td>339.10</td>\n",
       "      <td>NaN</td>\n",
       "      <td>0.69</td>\n",
       "      <td>2023</td>\n",
       "    </tr>\n",
       "    <tr>\n",
       "      <th>3006</th>\n",
       "      <td>2023-03-26</td>\n",
       "      <td>OpenAI</td>\n",
       "      <td>10.47</td>\n",
       "      <td>5.08</td>\n",
       "      <td>408.14</td>\n",
       "      <td>NaN</td>\n",
       "      <td>-0.55</td>\n",
       "      <td>2023</td>\n",
       "    </tr>\n",
       "    <tr>\n",
       "      <th>3007</th>\n",
       "      <td>2023-03-27</td>\n",
       "      <td>OpenAI</td>\n",
       "      <td>9.51</td>\n",
       "      <td>4.29</td>\n",
       "      <td>329.45</td>\n",
       "      <td>NaN</td>\n",
       "      <td>0.59</td>\n",
       "      <td>2023</td>\n",
       "    </tr>\n",
       "  </tbody>\n",
       "</table>\n",
       "</div>"
      ],
      "text/plain": [
       "           Date Company  R&D_Spending_USD_Mn  AI_Revenue_USD_Mn  \\\n",
       "2990 2023-03-10  OpenAI                 9.55               4.83   \n",
       "2991 2023-03-11  OpenAI                 8.34               3.95   \n",
       "2992 2023-03-12  OpenAI                 8.71               3.57   \n",
       "2993 2023-03-13  OpenAI                10.61               5.19   \n",
       "2994 2023-03-14  OpenAI                 7.78               4.05   \n",
       "2995 2023-03-15  OpenAI                12.31               4.44   \n",
       "2996 2023-03-16  OpenAI                10.60               4.64   \n",
       "2997 2023-03-17  OpenAI                10.77               4.78   \n",
       "2998 2023-03-18  OpenAI                 8.90               4.69   \n",
       "2999 2023-03-19  OpenAI                 9.61               5.22   \n",
       "3000 2023-03-20  OpenAI                 9.02               4.51   \n",
       "3001 2023-03-21  OpenAI                 9.71               4.55   \n",
       "3002 2023-03-22  OpenAI                 8.76               4.36   \n",
       "3003 2023-03-23  OpenAI                 9.29               3.50   \n",
       "3004 2023-03-24  OpenAI                 7.42               4.66   \n",
       "3005 2023-03-25  OpenAI                10.61               4.39   \n",
       "3006 2023-03-26  OpenAI                10.47               5.08   \n",
       "3007 2023-03-27  OpenAI                 9.51               4.29   \n",
       "\n",
       "      AI_Revenue_Growth_%            Event  Stock_Impact_%  Year_Date  \n",
       "2990               383.49              NaN           -0.02       2023  \n",
       "2991               294.67              NaN            0.19       2023  \n",
       "2992               256.88              NaN           -0.87       2023  \n",
       "2993               419.06              NaN            0.53       2023  \n",
       "2994               304.57    GPT-4 release           15.20       2023  \n",
       "2995               344.17  Cloud AI launch            3.84       2023  \n",
       "2996               364.49              NaN            0.04       2023  \n",
       "2997               377.90              NaN            0.69       2023  \n",
       "2998               368.87              NaN           -0.53       2023  \n",
       "2999               421.60              NaN            0.76       2023  \n",
       "3000               350.81              NaN            0.93       2023  \n",
       "3001               355.06              NaN           -0.92       2023  \n",
       "3002               336.13              NaN           -0.59       2023  \n",
       "3003               249.54              NaN           -0.61       2023  \n",
       "3004               365.62              NaN            0.32       2023  \n",
       "3005               339.10              NaN            0.69       2023  \n",
       "3006               408.14              NaN           -0.55       2023  \n",
       "3007               329.45              NaN            0.59       2023  "
      ]
     },
     "execution_count": 117,
     "metadata": {},
     "output_type": "execute_result"
    }
   ],
   "source": [
    "tf = df.loc[ 2990 : 3007]\n",
    "#Chọn một khảng ngắn để thấy rõ sự tác động của sự liên\n",
    "\n",
    "tf"
   ]
  },
  {
   "cell_type": "code",
   "execution_count": 118,
   "id": "40f4580b",
   "metadata": {},
   "outputs": [
    {
     "data": {
      "text/plain": [
       "Text(0, 0.5, 'Change in Stock %')"
      ]
     },
     "execution_count": 118,
     "metadata": {},
     "output_type": "execute_result"
    },
    {
     "data": {
      "image/png": "[encoded data removed]",
      "text/plain": [
       "<Figure size 1000x400 with 1 Axes>"
      ]
     },
     "metadata": {},
     "output_type": "display_data"
    }
   ],
   "source": [
    "plt.figure(figsize = (10,4))\n",
    "\n",
    "plt.plot( tf['Date'],tf['Stock_Impact_%'], color = 'm')\n",
    "\n",
    "plt.title(\"Comparison before and after the release of ChatGPT (GPT-3.5) launch\")\n",
    "plt.xlabel(\"Date\")\n",
    "plt.ylabel(\"Change in Stock %\")"
   ]
  },
  {
   "cell_type": "code",
   "execution_count": null,
   "id": "0c6eaca9-3467-48e3-9077-3e372e495241",
   "metadata": {},
   "outputs": [],
   "source": []
  },
  {
   "cell_type": "code",
   "execution_count": null,
   "id": "2eccfeae-0449-4eb8-a83d-36fe34b52dcd",
   "metadata": {},
   "outputs": [],
   "source": []
  },
  {
   "cell_type": "code",
   "execution_count": null,
   "id": "14398e43-d4d4-434c-86f1-8ea42036b032",
   "metadata": {},
   "outputs": [],
   "source": []
  },
  {
   "cell_type": "code",
   "execution_count": null,
   "id": "cf7c8649-d57e-4c9c-a94f-ddebfbae8a42",
   "metadata": {},
   "outputs": [],
   "source": []
  },
  {
   "cell_type": "code",
   "execution_count": 128,
   "id": "b65d5bb4-0fe5-4437-a418-073214021da4",
   "metadata": {},
   "outputs": [
    {
     "name": "stdout",
     "output_type": "stream",
     "text": [
      "Requirement already satisfied: statsmodels in c:\\users\\asus\\anaconda3\\lib\\site-packages (0.14.4)\n",
      "Requirement already satisfied: numpy<3,>=1.22.3 in c:\\users\\asus\\appdata\\roaming\\python\\python313\\site-packages (from statsmodels) (2.3.2)\n",
      "Requirement already satisfied: scipy!=1.9.2,>=1.8 in c:\\users\\asus\\appdata\\roaming\\python\\python313\\site-packages (from statsmodels) (1.16.1)\n",
      "Requirement already satisfied: pandas!=2.1.0,>=1.4 in c:\\users\\asus\\appdata\\roaming\\python\\python313\\site-packages (from statsmodels) (2.3.1)\n",
      "Requirement already satisfied: patsy>=0.5.6 in c:\\users\\asus\\anaconda3\\lib\\site-packages (from statsmodels) (1.0.1)\n",
      "Requirement already satisfied: packaging>=21.3 in c:\\users\\asus\\appdata\\roaming\\python\\python313\\site-packages (from statsmodels) (25.0)\n",
      "Requirement already satisfied: python-dateutil>=2.8.2 in c:\\users\\asus\\appdata\\roaming\\python\\python313\\site-packages (from pandas!=2.1.0,>=1.4->statsmodels) (2.9.0.post0)\n",
      "Requirement already satisfied: pytz>=2020.1 in c:\\users\\asus\\appdata\\roaming\\python\\python313\\site-packages (from pandas!=2.1.0,>=1.4->statsmodels) (2025.2)\n",
      "Requirement already satisfied: tzdata>=2022.7 in c:\\users\\asus\\appdata\\roaming\\python\\python313\\site-packages (from pandas!=2.1.0,>=1.4->statsmodels) (2025.2)\n",
      "Requirement already satisfied: six>=1.5 in c:\\users\\asus\\appdata\\roaming\\python\\python313\\site-packages (from python-dateutil>=2.8.2->pandas!=2.1.0,>=1.4->statsmodels) (1.17.0)\n",
      "Note: you may need to restart the kernel to use updated packages.\n"
     ]
    }
   ],
   "source": [
    "pip install statsmodels"
   ]
  },
  {
   "cell_type": "code",
   "execution_count": 130,
   "id": "1cb46326-6e9f-40c6-9d95-4b15528b0f5b",
   "metadata": {},
   "outputs": [],
   "source": [
    "from statsmodels.stats.multicomp import pairwise_tukeyhsd"
   ]
  },
  {
   "cell_type": "code",
   "execution_count": 147,
   "id": "8d20abc9-dad7-49de-97f4-2a7d2638156a",
   "metadata": {},
   "outputs": [
    {
     "name": "stdout",
     "output_type": "stream",
     "text": [
      "       Multiple Comparison of Means - Tukey HSD, FWER=0.05       \n",
      "=================================================================\n",
      "   group1       group2    meandiff p-adj   lower    upper  reject\n",
      "-----------------------------------------------------------------\n",
      "performance1 performance2      6.6 0.1003  -0.9911 14.1911  False\n",
      "performance1 performance3      5.2 0.2436  -2.3911 12.7911  False\n",
      "performance1 performance4     -1.8 0.9038  -9.3911  5.7911  False\n",
      "performance2 performance3     -1.4 0.9511  -8.9911  6.1911  False\n",
      "performance2 performance4     -8.4 0.0276 -15.9911 -0.8089   True\n",
      "performance3 performance4     -7.0 0.0761 -14.5911  0.5911  False\n",
      "-----------------------------------------------------------------\n"
     ]
    }
   ],
   "source": [
    "# Gom dữ liệu thành DataFrame\n",
    "performance1 = [89, 89, 88, 78, 79]\n",
    "performance2 = [93, 92, 94, 89, 88]\n",
    "performance3 = [89, 88, 89, 93, 90]\n",
    "performance4 = [81, 78, 81, 92, 82]\n",
    "\n",
    "data = pd.DataFrame({\n",
    "    \"score\": performance1 + performance2 + performance3 + performance4,\n",
    "    \"group\": ([\"performance1\"] * len(performance1) +\n",
    "              [\"performance2\"] * len(performance2) +\n",
    "              [\"performance3\"] * len(performance3) +\n",
    "              [\"performance4\"] * len(performance4))\n",
    "})\n",
    "\n",
    "# Tukey HSD test\n",
    "tukey = pairwise_tukeyhsd(endog=data['score'], groups=data['group'], alpha=0.05)\n",
    "print(tukey)"
   ]
  },
  {
   "cell_type": "code",
   "execution_count": 74,
   "id": "ad2cf25c-26a3-473f-a7c2-98580788a68f",
   "metadata": {},
   "outputs": [],
   "source": [
    "class Student:\n",
    "    def __init__(self,name,id):\n",
    "        self.name = name\n",
    "        self.id = id\n",
    "        self.scores=[]\n",
    "    def add_score(self,score):\n",
    "        self.scores = list(score)\n",
    "    def get_average(self):\n",
    "        if len(self.scores)==0:\n",
    "            return 0\n",
    "        return sum(self.scores)/len(self.scores)\n",
    "    def __str__(self):\n",
    "        return f\"Student({self.name}, {self.id}, {self.get_average():.1f})\" \n",
    "def find_top_score(students):\n",
    "    if not students:\n",
    "        return None\n",
    "    #return max(list(map(lambda s: s.get_average(),students)))\n",
    "    return max(students,key=(lambda s: s.get_average()))\n"
   ]
  },
  {
   "cell_type": "code",
   "execution_count": 75,
   "id": "cc9f2a96-fa18-40a9-859e-be3b32224aec",
   "metadata": {},
   "outputs": [
    {
     "name": "stdout",
     "output_type": "stream",
     "text": [
      "Student(An, SV001, 9.0)\n",
      "Student(Bình, SV002, 8.8)\n",
      "Điểm cao nhất: Student(An, SV001, 9.0)\n"
     ]
    }
   ],
   "source": [
    "s1 = Student(\"An\", \"SV001\")\n",
    "s2 = Student(\"Bình\", \"SV002\")\n",
    "\n",
    "s1.add_score([8,9,10,9])\n",
    "s2.add_score([7,10,8,10])\n",
    "\n",
    "\n",
    "print(s1)\n",
    "print(s2)\n",
    "top = find_top_score([s1, s2])\n",
    "print(\"Điểm cao nhất:\",top)"
   ]
  },
  {
   "cell_type": "code",
   "execution_count": 85,
   "id": "0cc9a7a9-937e-4a32-b9bb-29ef85e59cb9",
   "metadata": {},
   "outputs": [
    {
     "name": "stdout",
     "output_type": "stream",
     "text": [
      "TAGGCAT\n"
     ]
    }
   ],
   "source": [
    "def Dna(ma):\n",
    "    seq1 = \"\"   # khởi tạo chuỗi rỗng\n",
    "    for i in range(len(ma)):\n",
    "        if ma[i] == \"A\":\n",
    "            seq1 += \"T\"\n",
    "        elif ma[i] == \"T\":\n",
    "            seq1 += \"A\"\n",
    "        elif ma[i] == \"C\":\n",
    "            seq1 += \"G\"\n",
    "        elif ma[i] == \"G\":\n",
    "            seq1 += \"C\"\n",
    "    return seq1\n",
    "\n",
    "print(Dna(\"ATCCGTA\"))\n",
    "        \n",
    "            "
   ]
  }
 ],
 "metadata": {
  "kernelspec": {
   "display_name": "Python 3",
   "language": "python",
   "name": "python3"
  },
  "language_info": {
   "codemirror_mode": {
    "name": "ipython",
    "version": 3
   },
   "file_extension": ".py",
   "mimetype": "text/x-python",
   "name": "python",
   "nbconvert_exporter": "python",
   "pygments_lexer": "ipython3",
   "version": "3.13.5"
  }
 },
 "nbformat": 4,
 "nbformat_minor": 5
}
